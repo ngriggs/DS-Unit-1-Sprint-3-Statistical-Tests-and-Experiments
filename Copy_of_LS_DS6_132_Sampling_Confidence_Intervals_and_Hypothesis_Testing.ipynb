{
  "nbformat": 4,
  "nbformat_minor": 0,
  "metadata": {
    "colab": {
      "name": "Copy of LS_DS6_132_Sampling_Confidence_Intervals_and_Hypothesis_Testing.ipynb",
      "version": "0.3.2",
      "provenance": [],
      "collapsed_sections": [],
      "include_colab_link": true
    },
    "kernelspec": {
      "name": "python3",
      "display_name": "Python 3"
    }
  },
  "cells": [
    {
      "cell_type": "markdown",
      "metadata": {
        "id": "view-in-github",
        "colab_type": "text"
      },
      "source": [
        "<a href=\"https://colab.research.google.com/github/ngriggs/DS-Unit-1-Sprint-3-Statistical-Tests-and-Experiments/blob/master/Copy_of_LS_DS6_132_Sampling_Confidence_Intervals_and_Hypothesis_Testing.ipynb\" target=\"_parent\"><img src=\"https://colab.research.google.com/assets/colab-badge.svg\" alt=\"Open In Colab\"/></a>"
      ]
    },
    {
      "cell_type": "markdown",
      "metadata": {
        "id": "838Dmw1kM2LK",
        "colab_type": "text"
      },
      "source": [
        "# Lambda School Data Science Module 132\n",
        "## Sampling, Confidence Intervals, and Hypothesis Testing"
      ]
    },
    {
      "cell_type": "markdown",
      "metadata": {
        "id": "dbcPKIo5M6Ny",
        "colab_type": "text"
      },
      "source": [
        "## Prepare - examine other available hypothesis tests\n",
        "\n",
        "If you had to pick a single hypothesis test in your toolbox, t-test would probably be the best choice - but the good news is you don't have to pick just one! Here's some of the others to be aware of:"
      ]
    },
    {
      "cell_type": "code",
      "metadata": {
        "id": "tlBel8j9M6tB",
        "colab_type": "code",
        "outputId": "2c2e8c42-a555-4f1f-b222-8af2d2774336",
        "colab": {
          "base_uri": "https://localhost:8080/",
          "height": 187
        }
      },
      "source": [
        "import numpy as np\n",
        "from scipy.stats import chisquare  # One-way chi square test\n",
        "\n",
        "# Chi square can take any crosstab/table and test the independence of rows/cols\n",
        "# The null hypothesis is that the rows/cols are independent -> low chi square\n",
        "# The alternative is that there is a dependence -> high chi square\n",
        "# Be aware! Chi square does *not* tell you direction/causation\n",
        "\n",
        "ind_obs = np.array([[1, 1], [2, 2]]).T\n",
        "print(ind_obs)\n",
        "print(chisquare(ind_obs, axis=None))\n",
        "\n",
        "dep_obs = np.array([[16, 18, 16, 14, 12, 12], [32, 24, 16, 28, 20, 24]]).T\n",
        "print(dep_obs)\n",
        "print(chisquare(dep_obs, axis=None))"
      ],
      "execution_count": 0,
      "outputs": [
        {
          "output_type": "stream",
          "text": [
            "[[1 2]\n",
            " [1 2]]\n",
            "Power_divergenceResult(statistic=0.6666666666666666, pvalue=0.8810148425137847)\n",
            "[[16 32]\n",
            " [18 24]\n",
            " [16 16]\n",
            " [14 28]\n",
            " [12 20]\n",
            " [12 24]]\n",
            "Power_divergenceResult(statistic=23.31034482758621, pvalue=0.015975692534127565)\n"
          ],
          "name": "stdout"
        }
      ]
    },
    {
      "cell_type": "code",
      "metadata": {
        "id": "nN0BdNiDPxbk",
        "colab_type": "code",
        "outputId": "814f5fe1-8b3a-43dd-d8a7-be5225897e2d",
        "colab": {
          "base_uri": "https://localhost:8080/",
          "height": 34
        }
      },
      "source": [
        "# Distribution tests:\n",
        "# We often assume that something is normal, but it can be important to *check*\n",
        "\n",
        "# For example, later on with predictive modeling, a typical assumption is that\n",
        "# residuals (prediction errors) are normal - checking is a good diagnostic\n",
        "\n",
        "from scipy.stats import normaltest\n",
        "# Poisson models arrival times and is related to the binomial (coinflip)\n",
        "sample = np.random.poisson(5, 1000)\n",
        "print(normaltest(sample))  # Pretty clearly not normal"
      ],
      "execution_count": 0,
      "outputs": [
        {
          "output_type": "stream",
          "text": [
            "NormaltestResult(statistic=32.74993223644408, pvalue=7.734683967546769e-08)\n"
          ],
          "name": "stdout"
        }
      ]
    },
    {
      "cell_type": "code",
      "metadata": {
        "id": "P5t0WhkDReFO",
        "colab_type": "code",
        "outputId": "7bcb6750-3c57-4c9c-d7ae-03c6fca31652",
        "colab": {
          "base_uri": "https://localhost:8080/",
          "height": 51
        }
      },
      "source": [
        "# Kruskal-Wallis H-test - compare the median rank between 2+ groups\n",
        "# Can be applied to ranking decisions/outcomes/recommendations\n",
        "# The underlying math comes from chi-square distribution, and is best for n>5\n",
        "from scipy.stats import kruskal\n",
        "\n",
        "x1 = [1, 3, 5, 7, 9]\n",
        "y1 = [2, 4, 6, 8, 10]\n",
        "print(kruskal(x1, y1))  # x1 is a little better, but not \"significantly\" so\n",
        "\n",
        "x2 = [1, 1, 1]\n",
        "y2 = [2, 2, 2]\n",
        "z = [2, 2]  # Hey, a third group, and of different size!\n",
        "print(kruskal(x2, y2, z))  # x clearly dominates so p is small"
      ],
      "execution_count": 0,
      "outputs": [
        {
          "output_type": "stream",
          "text": [
            "KruskalResult(statistic=0.2727272727272734, pvalue=0.6015081344405895)\n",
            "KruskalResult(statistic=7.0, pvalue=0.0301973834223185)\n"
          ],
          "name": "stdout"
        }
      ]
    },
    {
      "cell_type": "markdown",
      "metadata": {
        "id": "7pT3IP36Rh0b",
        "colab_type": "text"
      },
      "source": [
        "And there's many more! `scipy.stats` is fairly comprehensive, though there are even more available if you delve into the extended world of statistics packages. As tests get increasingly obscure and specialized, the importance of knowing them by heart becomes small - but being able to look them up and figure them out when they *are* relevant is still important."
      ]
    },
    {
      "cell_type": "markdown",
      "metadata": {
        "id": "IL1okKC8Kem1",
        "colab_type": "text"
      },
      "source": [
        "## Write functions\n",
        "\n",
        "Here you could run any hypothesis test on a dataset for an interview. Like you might write a function to check if a column of integer datatype is normally distributed. "
      ]
    },
    {
      "cell_type": "markdown",
      "metadata": {
        "id": "3JqroCQYQqhy",
        "colab_type": "text"
      },
      "source": [
        "## T-test Assumptions"
      ]
    },
    {
      "cell_type": "code",
      "metadata": {
        "id": "sqy2hEFRZnvI",
        "colab_type": "code",
        "colab": {}
      },
      "source": [
        "from scipy.stats import ttest_ind\n",
        "\n",
        "?ttest_ind"
      ],
      "execution_count": 0,
      "outputs": []
    },
    {
      "cell_type": "markdown",
      "metadata": {
        "id": "xI-PcK5sZ1A9",
        "colab_type": "text"
      },
      "source": [
        "<https://statistics.laerd.com/statistical-guides/independent-t-test-statistical-guide.php>\n",
        "\n",
        "- Independence of means\n",
        "\n",
        "Are the means of our voting data independent (do not affect the outcome of one another)?\n",
        "  \n",
        "The best way to increase thel likelihood of our means being independent is to randomly sample (which we did not do).\n",
        "\n",
        "- \"Homogeneity\" of Variance? \n",
        "\n",
        "Is the magnitude of the variance between the two roughly the same?\n",
        "\n",
        "I think we're OK on this one for the voting data, although it probably could be better, one party was larger than the other.\n",
        "\n",
        "If we suspect this to be a problem then we can use Welch's T-test"
      ]
    },
    {
      "cell_type": "markdown",
      "metadata": {
        "id": "tjgoHHwGayoC",
        "colab_type": "text"
      },
      "source": [
        "- \"Dependent Variable\" (sample means) are Distributed Normally\n",
        "\n",
        "<https://stats.stackexchange.com/questions/9573/t-test-for-non-normal-when-n50>\n",
        "\n",
        "Lots of statistical tests depend on normal distributions. We can test for normality using Scipy as was shown above.\n",
        "\n",
        "This assumption is often assumed even if the assumption is a weak one. If you strongly suspect that things are not normally distributed, you can transform your data to get it looking more normal and then run your test. This problem typically goes away for large sample sizes (yay Central Limit Theorem) and is often why you don't hear it brought up. People declare the assumption to be satisfied either way. \n",
        "\n"
      ]
    },
    {
      "cell_type": "markdown",
      "metadata": {
        "id": "bvvPV-RJN2vA",
        "colab_type": "text"
      },
      "source": [
        "## Central Limit Theorem\n",
        "\n"
      ]
    },
    {
      "cell_type": "code",
      "metadata": {
        "id": "ibDQihKyM8Rq",
        "colab_type": "code",
        "outputId": "66f10573-9feb-498d-f6af-6899d0b067dd",
        "colab": {
          "base_uri": "https://localhost:8080/",
          "height": 51
        }
      },
      "source": [
        "np.random.binomial(n=1, p=.5, size=30)"
      ],
      "execution_count": 0,
      "outputs": [
        {
          "output_type": "execute_result",
          "data": {
            "text/plain": [
              "array([1, 0, 1, 0, 1, 1, 1, 0, 1, 1, 1, 1, 0, 0, 0, 0, 0, 0, 0, 0, 0, 0,\n",
              "       1, 0, 1, 0, 0, 0, 1, 1])"
            ]
          },
          "metadata": {
            "tags": []
          },
          "execution_count": 6
        }
      ]
    },
    {
      "cell_type": "code",
      "metadata": {
        "id": "FBLoOF8qOJeJ",
        "colab_type": "code",
        "outputId": "95ce09f6-d00b-44ba-fb0e-2817120c37c8",
        "colab": {
          "base_uri": "https://localhost:8080/",
          "height": 71
        }
      },
      "source": [
        "import numpy as np\n",
        "import matplotlib.pyplot as plt\n",
        "import pandas as pd\n",
        "N = 3000\n",
        "sample_means = []\n",
        "for x in range(0,N):\n",
        "  coinflips = np.random.binomial(n=1, p=.5, size=100)\n",
        "  one_sample = coinflips\n",
        "  sample_means.append(coinflips.mean())\n",
        "\n",
        "print(len(sample_means))\n",
        "print(sample_means)"
      ],
      "execution_count": 0,
      "outputs": [
        {
          "output_type": "stream",
          "text": [
            "3000\n",
            "[0.57, 0.54, 0.46, 0.48, 0.5, 0.51, 0.48, 0.49, 0.51, 0.49, 0.39, 0.51, 0.48, 0.55, 0.46, 0.48, 0.61, 0.48, 0.54, 0.56, 0.52, 0.5, 0.5, 0.45, 0.47, 0.52, 0.53, 0.49, 0.44, 0.54, 0.44, 0.47, 0.48, 0.54, 0.36, 0.49, 0.58, 0.38, 0.49, 0.55, 0.57, 0.56, 0.43, 0.49, 0.49, 0.49, 0.52, 0.48, 0.5, 0.51, 0.45, 0.49, 0.48, 0.5, 0.54, 0.52, 0.42, 0.5, 0.37, 0.47, 0.41, 0.52, 0.43, 0.51, 0.61, 0.51, 0.56, 0.41, 0.48, 0.5, 0.48, 0.46, 0.33, 0.46, 0.55, 0.54, 0.57, 0.49, 0.55, 0.45, 0.48, 0.48, 0.46, 0.54, 0.51, 0.57, 0.46, 0.52, 0.53, 0.54, 0.5, 0.47, 0.54, 0.47, 0.51, 0.49, 0.48, 0.4, 0.49, 0.6, 0.53, 0.48, 0.36, 0.34, 0.42, 0.45, 0.49, 0.45, 0.59, 0.6, 0.43, 0.46, 0.51, 0.53, 0.56, 0.48, 0.53, 0.5, 0.52, 0.5, 0.53, 0.47, 0.48, 0.48, 0.54, 0.36, 0.48, 0.53, 0.45, 0.57, 0.45, 0.48, 0.48, 0.5, 0.5, 0.49, 0.55, 0.51, 0.46, 0.57, 0.48, 0.47, 0.46, 0.47, 0.51, 0.49, 0.47, 0.51, 0.55, 0.53, 0.54, 0.48, 0.52, 0.46, 0.43, 0.57, 0.53, 0.57, 0.53, 0.5, 0.55, 0.46, 0.48, 0.44, 0.44, 0.56, 0.51, 0.46, 0.44, 0.5, 0.49, 0.57, 0.52, 0.55, 0.41, 0.42, 0.57, 0.43, 0.57, 0.55, 0.49, 0.45, 0.55, 0.42, 0.5, 0.51, 0.53, 0.47, 0.57, 0.55, 0.47, 0.44, 0.47, 0.53, 0.54, 0.48, 0.46, 0.49, 0.49, 0.39, 0.56, 0.5, 0.48, 0.47, 0.44, 0.52, 0.55, 0.42, 0.51, 0.54, 0.54, 0.52, 0.44, 0.51, 0.58, 0.51, 0.47, 0.54, 0.5, 0.53, 0.51, 0.51, 0.49, 0.48, 0.51, 0.44, 0.51, 0.42, 0.55, 0.37, 0.52, 0.53, 0.5, 0.45, 0.47, 0.43, 0.45, 0.52, 0.5, 0.51, 0.48, 0.46, 0.48, 0.5, 0.48, 0.46, 0.43, 0.41, 0.45, 0.46, 0.5, 0.43, 0.47, 0.48, 0.48, 0.57, 0.42, 0.47, 0.47, 0.45, 0.51, 0.53, 0.51, 0.52, 0.5, 0.44, 0.52, 0.44, 0.46, 0.5, 0.47, 0.4, 0.44, 0.5, 0.46, 0.52, 0.46, 0.55, 0.57, 0.55, 0.48, 0.45, 0.53, 0.47, 0.52, 0.45, 0.48, 0.44, 0.41, 0.38, 0.54, 0.44, 0.57, 0.45, 0.5, 0.57, 0.47, 0.54, 0.46, 0.44, 0.51, 0.52, 0.48, 0.55, 0.42, 0.48, 0.45, 0.46, 0.53, 0.44, 0.45, 0.48, 0.53, 0.49, 0.47, 0.51, 0.53, 0.58, 0.46, 0.51, 0.52, 0.49, 0.54, 0.52, 0.52, 0.49, 0.51, 0.51, 0.37, 0.39, 0.51, 0.5, 0.45, 0.47, 0.45, 0.56, 0.51, 0.51, 0.54, 0.51, 0.42, 0.41, 0.5, 0.55, 0.5, 0.47, 0.51, 0.51, 0.53, 0.43, 0.56, 0.51, 0.59, 0.41, 0.5, 0.52, 0.45, 0.61, 0.5, 0.39, 0.5, 0.52, 0.57, 0.4, 0.52, 0.49, 0.48, 0.45, 0.51, 0.57, 0.56, 0.52, 0.49, 0.58, 0.49, 0.5, 0.35, 0.53, 0.51, 0.53, 0.49, 0.55, 0.48, 0.45, 0.63, 0.46, 0.56, 0.4, 0.51, 0.47, 0.39, 0.49, 0.53, 0.49, 0.44, 0.47, 0.44, 0.51, 0.42, 0.55, 0.47, 0.48, 0.5, 0.54, 0.5, 0.5, 0.47, 0.52, 0.55, 0.58, 0.57, 0.46, 0.49, 0.48, 0.51, 0.44, 0.47, 0.45, 0.43, 0.48, 0.52, 0.43, 0.44, 0.52, 0.56, 0.51, 0.48, 0.42, 0.47, 0.56, 0.39, 0.57, 0.48, 0.47, 0.49, 0.41, 0.45, 0.58, 0.47, 0.49, 0.45, 0.47, 0.48, 0.47, 0.44, 0.53, 0.41, 0.57, 0.51, 0.5, 0.52, 0.42, 0.51, 0.48, 0.46, 0.44, 0.49, 0.47, 0.52, 0.52, 0.59, 0.5, 0.52, 0.55, 0.56, 0.51, 0.43, 0.51, 0.46, 0.51, 0.44, 0.51, 0.45, 0.5, 0.51, 0.45, 0.55, 0.55, 0.61, 0.48, 0.5, 0.51, 0.45, 0.54, 0.53, 0.53, 0.58, 0.46, 0.53, 0.58, 0.41, 0.53, 0.48, 0.53, 0.5, 0.54, 0.46, 0.5, 0.46, 0.53, 0.5, 0.54, 0.56, 0.42, 0.48, 0.47, 0.65, 0.52, 0.53, 0.51, 0.56, 0.51, 0.48, 0.58, 0.49, 0.47, 0.46, 0.47, 0.53, 0.5, 0.49, 0.55, 0.47, 0.49, 0.5, 0.51, 0.48, 0.57, 0.46, 0.5, 0.45, 0.44, 0.51, 0.47, 0.51, 0.5, 0.53, 0.43, 0.64, 0.52, 0.44, 0.54, 0.55, 0.47, 0.52, 0.51, 0.51, 0.55, 0.54, 0.58, 0.55, 0.51, 0.44, 0.64, 0.54, 0.49, 0.54, 0.48, 0.58, 0.52, 0.56, 0.44, 0.57, 0.53, 0.48, 0.39, 0.43, 0.38, 0.38, 0.44, 0.51, 0.53, 0.56, 0.53, 0.51, 0.46, 0.54, 0.48, 0.5, 0.43, 0.43, 0.44, 0.5, 0.49, 0.41, 0.44, 0.53, 0.46, 0.44, 0.55, 0.49, 0.52, 0.45, 0.42, 0.49, 0.42, 0.49, 0.56, 0.51, 0.47, 0.43, 0.55, 0.59, 0.46, 0.51, 0.59, 0.42, 0.44, 0.52, 0.4, 0.59, 0.43, 0.52, 0.56, 0.49, 0.5, 0.5, 0.51, 0.55, 0.54, 0.49, 0.45, 0.48, 0.5, 0.5, 0.54, 0.47, 0.5, 0.58, 0.49, 0.54, 0.44, 0.48, 0.47, 0.54, 0.56, 0.48, 0.43, 0.6, 0.51, 0.49, 0.42, 0.46, 0.58, 0.48, 0.46, 0.4, 0.51, 0.49, 0.53, 0.46, 0.46, 0.55, 0.45, 0.58, 0.51, 0.48, 0.43, 0.58, 0.49, 0.52, 0.51, 0.48, 0.46, 0.58, 0.51, 0.48, 0.4, 0.51, 0.54, 0.45, 0.53, 0.56, 0.51, 0.56, 0.51, 0.39, 0.44, 0.53, 0.55, 0.53, 0.56, 0.54, 0.57, 0.59, 0.59, 0.5, 0.44, 0.46, 0.51, 0.47, 0.53, 0.53, 0.5, 0.54, 0.51, 0.57, 0.51, 0.4, 0.47, 0.49, 0.53, 0.51, 0.47, 0.49, 0.42, 0.59, 0.43, 0.49, 0.54, 0.44, 0.51, 0.51, 0.54, 0.54, 0.51, 0.47, 0.51, 0.47, 0.6, 0.53, 0.48, 0.43, 0.54, 0.48, 0.52, 0.49, 0.47, 0.48, 0.49, 0.46, 0.48, 0.44, 0.45, 0.51, 0.5, 0.53, 0.52, 0.52, 0.54, 0.45, 0.47, 0.51, 0.52, 0.49, 0.48, 0.48, 0.45, 0.55, 0.47, 0.48, 0.56, 0.52, 0.52, 0.46, 0.48, 0.49, 0.45, 0.53, 0.53, 0.53, 0.55, 0.58, 0.5, 0.4, 0.49, 0.52, 0.45, 0.55, 0.44, 0.54, 0.44, 0.56, 0.47, 0.59, 0.5, 0.52, 0.49, 0.62, 0.52, 0.52, 0.49, 0.57, 0.47, 0.49, 0.6, 0.46, 0.44, 0.51, 0.45, 0.48, 0.49, 0.61, 0.59, 0.5, 0.48, 0.46, 0.5, 0.51, 0.53, 0.44, 0.48, 0.51, 0.54, 0.49, 0.57, 0.58, 0.55, 0.53, 0.43, 0.55, 0.49, 0.49, 0.44, 0.45, 0.49, 0.54, 0.41, 0.58, 0.61, 0.49, 0.48, 0.47, 0.46, 0.62, 0.52, 0.52, 0.5, 0.53, 0.59, 0.52, 0.47, 0.48, 0.51, 0.54, 0.5, 0.53, 0.51, 0.51, 0.52, 0.46, 0.43, 0.46, 0.53, 0.6, 0.54, 0.51, 0.49, 0.42, 0.5, 0.41, 0.44, 0.58, 0.46, 0.47, 0.55, 0.47, 0.47, 0.47, 0.5, 0.55, 0.46, 0.57, 0.55, 0.47, 0.43, 0.44, 0.5, 0.51, 0.46, 0.48, 0.56, 0.44, 0.46, 0.46, 0.55, 0.47, 0.62, 0.42, 0.49, 0.44, 0.6, 0.58, 0.49, 0.61, 0.5, 0.53, 0.53, 0.45, 0.56, 0.48, 0.43, 0.56, 0.44, 0.48, 0.52, 0.42, 0.45, 0.41, 0.52, 0.55, 0.48, 0.58, 0.5, 0.51, 0.44, 0.44, 0.5, 0.53, 0.54, 0.47, 0.56, 0.51, 0.5, 0.52, 0.5, 0.42, 0.54, 0.41, 0.46, 0.63, 0.55, 0.49, 0.53, 0.55, 0.48, 0.5, 0.42, 0.59, 0.5, 0.47, 0.47, 0.47, 0.43, 0.52, 0.46, 0.44, 0.43, 0.49, 0.55, 0.36, 0.53, 0.51, 0.53, 0.51, 0.48, 0.51, 0.58, 0.54, 0.46, 0.52, 0.49, 0.53, 0.43, 0.58, 0.53, 0.47, 0.46, 0.59, 0.5, 0.53, 0.52, 0.47, 0.59, 0.47, 0.44, 0.56, 0.54, 0.41, 0.5, 0.54, 0.38, 0.5, 0.51, 0.6, 0.5, 0.54, 0.49, 0.61, 0.53, 0.52, 0.39, 0.54, 0.51, 0.47, 0.48, 0.49, 0.49, 0.47, 0.46, 0.44, 0.46, 0.53, 0.53, 0.55, 0.52, 0.47, 0.45, 0.51, 0.53, 0.46, 0.56, 0.48, 0.52, 0.46, 0.56, 0.4, 0.52, 0.5, 0.39, 0.55, 0.45, 0.53, 0.46, 0.51, 0.49, 0.48, 0.56, 0.49, 0.59, 0.41, 0.59, 0.49, 0.44, 0.47, 0.56, 0.55, 0.54, 0.46, 0.42, 0.49, 0.51, 0.54, 0.45, 0.49, 0.49, 0.5, 0.51, 0.49, 0.45, 0.46, 0.48, 0.45, 0.57, 0.57, 0.56, 0.52, 0.54, 0.47, 0.52, 0.44, 0.46, 0.53, 0.43, 0.57, 0.39, 0.5, 0.53, 0.51, 0.55, 0.46, 0.41, 0.44, 0.46, 0.46, 0.49, 0.46, 0.48, 0.59, 0.54, 0.55, 0.47, 0.53, 0.5, 0.54, 0.6, 0.55, 0.56, 0.6, 0.47, 0.46, 0.6, 0.42, 0.53, 0.47, 0.52, 0.44, 0.47, 0.49, 0.44, 0.56, 0.5, 0.46, 0.46, 0.56, 0.58, 0.41, 0.57, 0.53, 0.44, 0.42, 0.5, 0.55, 0.47, 0.53, 0.44, 0.57, 0.48, 0.49, 0.53, 0.56, 0.46, 0.47, 0.42, 0.51, 0.56, 0.61, 0.45, 0.37, 0.53, 0.56, 0.48, 0.42, 0.43, 0.48, 0.52, 0.53, 0.52, 0.57, 0.43, 0.45, 0.53, 0.5, 0.58, 0.52, 0.5, 0.48, 0.43, 0.58, 0.57, 0.51, 0.53, 0.52, 0.41, 0.55, 0.51, 0.49, 0.59, 0.54, 0.45, 0.36, 0.55, 0.51, 0.51, 0.5, 0.45, 0.47, 0.45, 0.38, 0.52, 0.51, 0.53, 0.51, 0.6, 0.39, 0.46, 0.53, 0.55, 0.51, 0.52, 0.48, 0.48, 0.56, 0.5, 0.57, 0.54, 0.53, 0.48, 0.55, 0.56, 0.47, 0.52, 0.49, 0.47, 0.52, 0.44, 0.48, 0.5, 0.54, 0.5, 0.46, 0.43, 0.47, 0.51, 0.45, 0.4, 0.54, 0.51, 0.57, 0.47, 0.57, 0.53, 0.52, 0.46, 0.49, 0.59, 0.56, 0.55, 0.47, 0.48, 0.47, 0.51, 0.54, 0.46, 0.45, 0.49, 0.56, 0.49, 0.4, 0.45, 0.46, 0.53, 0.5, 0.44, 0.56, 0.45, 0.56, 0.45, 0.45, 0.5, 0.54, 0.5, 0.49, 0.5, 0.42, 0.5, 0.56, 0.47, 0.46, 0.45, 0.43, 0.46, 0.51, 0.45, 0.45, 0.51, 0.55, 0.53, 0.5, 0.45, 0.55, 0.46, 0.46, 0.55, 0.45, 0.43, 0.5, 0.44, 0.43, 0.49, 0.48, 0.59, 0.46, 0.44, 0.6, 0.5, 0.52, 0.48, 0.56, 0.46, 0.56, 0.44, 0.43, 0.52, 0.49, 0.48, 0.61, 0.43, 0.55, 0.47, 0.55, 0.49, 0.48, 0.59, 0.53, 0.51, 0.47, 0.34, 0.45, 0.47, 0.57, 0.53, 0.57, 0.51, 0.46, 0.46, 0.5, 0.55, 0.42, 0.49, 0.5, 0.52, 0.52, 0.4, 0.39, 0.55, 0.53, 0.44, 0.47, 0.44, 0.55, 0.5, 0.46, 0.54, 0.51, 0.53, 0.57, 0.43, 0.43, 0.5, 0.51, 0.57, 0.49, 0.49, 0.47, 0.53, 0.5, 0.42, 0.53, 0.52, 0.55, 0.49, 0.58, 0.48, 0.52, 0.44, 0.44, 0.45, 0.54, 0.45, 0.55, 0.56, 0.44, 0.54, 0.44, 0.48, 0.49, 0.57, 0.49, 0.49, 0.5, 0.58, 0.43, 0.45, 0.4, 0.48, 0.52, 0.54, 0.49, 0.54, 0.51, 0.49, 0.4, 0.45, 0.47, 0.52, 0.56, 0.46, 0.5, 0.55, 0.5, 0.57, 0.56, 0.44, 0.44, 0.47, 0.5, 0.55, 0.56, 0.45, 0.51, 0.53, 0.48, 0.59, 0.59, 0.5, 0.49, 0.42, 0.54, 0.36, 0.42, 0.53, 0.46, 0.46, 0.47, 0.52, 0.4, 0.44, 0.39, 0.52, 0.49, 0.59, 0.55, 0.5, 0.51, 0.49, 0.44, 0.47, 0.51, 0.49, 0.43, 0.48, 0.49, 0.46, 0.51, 0.47, 0.52, 0.44, 0.56, 0.55, 0.45, 0.51, 0.5, 0.53, 0.54, 0.59, 0.49, 0.48, 0.49, 0.54, 0.59, 0.52, 0.43, 0.45, 0.52, 0.5, 0.52, 0.52, 0.47, 0.57, 0.48, 0.48, 0.5, 0.47, 0.48, 0.4, 0.47, 0.43, 0.54, 0.52, 0.47, 0.53, 0.5, 0.47, 0.42, 0.56, 0.54, 0.54, 0.49, 0.51, 0.38, 0.51, 0.55, 0.53, 0.56, 0.51, 0.55, 0.58, 0.47, 0.52, 0.49, 0.5, 0.43, 0.48, 0.49, 0.46, 0.47, 0.56, 0.5, 0.47, 0.53, 0.52, 0.42, 0.48, 0.58, 0.43, 0.53, 0.53, 0.52, 0.49, 0.58, 0.52, 0.46, 0.5, 0.51, 0.53, 0.48, 0.52, 0.52, 0.48, 0.59, 0.5, 0.46, 0.48, 0.6, 0.5, 0.47, 0.49, 0.44, 0.52, 0.42, 0.44, 0.45, 0.41, 0.57, 0.48, 0.46, 0.5, 0.54, 0.55, 0.48, 0.6, 0.55, 0.44, 0.45, 0.42, 0.49, 0.5, 0.48, 0.45, 0.45, 0.43, 0.51, 0.55, 0.57, 0.4, 0.6, 0.46, 0.48, 0.49, 0.58, 0.42, 0.53, 0.5, 0.54, 0.55, 0.47, 0.46, 0.48, 0.53, 0.48, 0.43, 0.51, 0.46, 0.54, 0.56, 0.44, 0.48, 0.45, 0.51, 0.48, 0.45, 0.58, 0.51, 0.54, 0.51, 0.45, 0.47, 0.43, 0.54, 0.53, 0.53, 0.53, 0.46, 0.53, 0.5, 0.56, 0.55, 0.49, 0.44, 0.47, 0.56, 0.39, 0.54, 0.45, 0.48, 0.55, 0.47, 0.5, 0.51, 0.49, 0.49, 0.54, 0.36, 0.39, 0.56, 0.45, 0.47, 0.52, 0.52, 0.6, 0.57, 0.51, 0.42, 0.48, 0.49, 0.49, 0.52, 0.55, 0.39, 0.47, 0.5, 0.42, 0.52, 0.43, 0.46, 0.42, 0.51, 0.54, 0.5, 0.5, 0.61, 0.54, 0.53, 0.56, 0.49, 0.45, 0.56, 0.54, 0.59, 0.5, 0.55, 0.45, 0.52, 0.56, 0.48, 0.52, 0.43, 0.5, 0.52, 0.52, 0.52, 0.53, 0.5, 0.54, 0.49, 0.48, 0.64, 0.51, 0.53, 0.54, 0.57, 0.43, 0.48, 0.55, 0.51, 0.47, 0.52, 0.5, 0.59, 0.56, 0.52, 0.55, 0.42, 0.57, 0.46, 0.48, 0.39, 0.59, 0.45, 0.55, 0.43, 0.45, 0.44, 0.5, 0.55, 0.51, 0.47, 0.46, 0.56, 0.47, 0.5, 0.58, 0.45, 0.49, 0.51, 0.55, 0.5, 0.56, 0.51, 0.51, 0.54, 0.47, 0.48, 0.44, 0.48, 0.52, 0.47, 0.54, 0.48, 0.44, 0.45, 0.46, 0.53, 0.54, 0.52, 0.47, 0.52, 0.47, 0.49, 0.48, 0.54, 0.55, 0.6, 0.52, 0.5, 0.5, 0.47, 0.5, 0.44, 0.45, 0.39, 0.54, 0.48, 0.53, 0.46, 0.42, 0.41, 0.49, 0.44, 0.48, 0.6, 0.46, 0.5, 0.53, 0.57, 0.52, 0.43, 0.5, 0.59, 0.45, 0.56, 0.51, 0.46, 0.53, 0.4, 0.5, 0.53, 0.54, 0.5, 0.46, 0.55, 0.57, 0.49, 0.42, 0.44, 0.54, 0.64, 0.49, 0.54, 0.6, 0.5, 0.59, 0.46, 0.55, 0.54, 0.47, 0.48, 0.46, 0.49, 0.44, 0.52, 0.61, 0.47, 0.55, 0.53, 0.42, 0.49, 0.38, 0.44, 0.5, 0.5, 0.55, 0.53, 0.51, 0.47, 0.43, 0.45, 0.45, 0.48, 0.5, 0.56, 0.55, 0.55, 0.44, 0.45, 0.59, 0.53, 0.48, 0.44, 0.48, 0.48, 0.48, 0.49, 0.4, 0.56, 0.43, 0.43, 0.53, 0.42, 0.54, 0.52, 0.47, 0.65, 0.49, 0.54, 0.54, 0.59, 0.5, 0.54, 0.53, 0.61, 0.53, 0.56, 0.36, 0.43, 0.47, 0.49, 0.49, 0.48, 0.58, 0.54, 0.46, 0.49, 0.5, 0.43, 0.52, 0.52, 0.59, 0.36, 0.6, 0.43, 0.43, 0.48, 0.5, 0.43, 0.48, 0.51, 0.49, 0.4, 0.43, 0.48, 0.53, 0.54, 0.52, 0.49, 0.51, 0.45, 0.47, 0.55, 0.46, 0.55, 0.5, 0.47, 0.48, 0.53, 0.52, 0.5, 0.47, 0.49, 0.48, 0.53, 0.51, 0.45, 0.51, 0.48, 0.5, 0.54, 0.42, 0.49, 0.48, 0.48, 0.43, 0.53, 0.52, 0.43, 0.47, 0.56, 0.45, 0.49, 0.54, 0.44, 0.61, 0.48, 0.43, 0.43, 0.52, 0.5, 0.53, 0.46, 0.47, 0.57, 0.48, 0.5, 0.5, 0.41, 0.61, 0.5, 0.45, 0.54, 0.52, 0.45, 0.44, 0.59, 0.49, 0.43, 0.57, 0.52, 0.51, 0.44, 0.5, 0.45, 0.57, 0.54, 0.6, 0.47, 0.4, 0.49, 0.47, 0.47, 0.44, 0.48, 0.47, 0.48, 0.5, 0.49, 0.47, 0.55, 0.55, 0.54, 0.53, 0.48, 0.54, 0.42, 0.58, 0.44, 0.54, 0.53, 0.46, 0.45, 0.41, 0.56, 0.46, 0.44, 0.57, 0.59, 0.44, 0.51, 0.48, 0.44, 0.54, 0.44, 0.49, 0.5, 0.45, 0.44, 0.53, 0.54, 0.55, 0.51, 0.52, 0.47, 0.47, 0.41, 0.53, 0.53, 0.52, 0.55, 0.46, 0.5, 0.59, 0.39, 0.42, 0.53, 0.46, 0.49, 0.53, 0.52, 0.46, 0.47, 0.42, 0.58, 0.52, 0.45, 0.45, 0.51, 0.44, 0.54, 0.46, 0.54, 0.55, 0.48, 0.53, 0.56, 0.49, 0.58, 0.5, 0.57, 0.51, 0.52, 0.53, 0.55, 0.42, 0.5, 0.52, 0.52, 0.52, 0.54, 0.52, 0.48, 0.52, 0.46, 0.53, 0.5, 0.52, 0.45, 0.52, 0.51, 0.51, 0.3, 0.55, 0.52, 0.43, 0.48, 0.45, 0.51, 0.49, 0.52, 0.55, 0.46, 0.54, 0.49, 0.53, 0.51, 0.4, 0.47, 0.46, 0.44, 0.4, 0.5, 0.4, 0.49, 0.4, 0.56, 0.5, 0.53, 0.49, 0.57, 0.49, 0.45, 0.48, 0.63, 0.48, 0.51, 0.46, 0.55, 0.49, 0.5, 0.46, 0.46, 0.46, 0.41, 0.51, 0.5, 0.4, 0.46, 0.49, 0.47, 0.52, 0.44, 0.55, 0.54, 0.53, 0.39, 0.41, 0.4, 0.55, 0.6, 0.51, 0.46, 0.57, 0.51, 0.59, 0.47, 0.47, 0.5, 0.43, 0.52, 0.56, 0.48, 0.55, 0.48, 0.52, 0.46, 0.49, 0.49, 0.42, 0.5, 0.56, 0.47, 0.44, 0.45, 0.55, 0.59, 0.49, 0.54, 0.5, 0.53, 0.57, 0.45, 0.46, 0.49, 0.49, 0.54, 0.41, 0.53, 0.52, 0.51, 0.5, 0.51, 0.52, 0.43, 0.45, 0.5, 0.44, 0.48, 0.45, 0.48, 0.38, 0.58, 0.46, 0.41, 0.57, 0.51, 0.44, 0.58, 0.46, 0.49, 0.52, 0.46, 0.6, 0.5, 0.5, 0.4, 0.51, 0.46, 0.62, 0.48, 0.47, 0.44, 0.45, 0.47, 0.49, 0.53, 0.46, 0.6, 0.48, 0.48, 0.52, 0.53, 0.53, 0.48, 0.46, 0.45, 0.36, 0.43, 0.49, 0.48, 0.5, 0.45, 0.51, 0.43, 0.55, 0.48, 0.46, 0.46, 0.46, 0.45, 0.47, 0.51, 0.53, 0.38, 0.52, 0.48, 0.5, 0.42, 0.61, 0.44, 0.46, 0.49, 0.55, 0.45, 0.55, 0.45, 0.67, 0.46, 0.48, 0.54, 0.57, 0.42, 0.55, 0.5, 0.58, 0.49, 0.47, 0.55, 0.53, 0.48, 0.52, 0.53, 0.55, 0.44, 0.61, 0.54, 0.51, 0.53, 0.52, 0.5, 0.53, 0.45, 0.48, 0.6, 0.45, 0.52, 0.5, 0.42, 0.52, 0.49, 0.49, 0.41, 0.5, 0.43, 0.55, 0.49, 0.52, 0.51, 0.48, 0.39, 0.51, 0.53, 0.45, 0.45, 0.47, 0.55, 0.55, 0.53, 0.43, 0.5, 0.47, 0.5, 0.45, 0.46, 0.56, 0.53, 0.46, 0.43, 0.47, 0.46, 0.46, 0.53, 0.48, 0.49, 0.5, 0.53, 0.55, 0.52, 0.43, 0.5, 0.55, 0.49, 0.43, 0.44, 0.44, 0.56, 0.54, 0.5, 0.51, 0.48, 0.43, 0.57, 0.59, 0.49, 0.55, 0.55, 0.53, 0.54, 0.56, 0.52, 0.47, 0.55, 0.43, 0.53, 0.54, 0.47, 0.54, 0.49, 0.53, 0.47, 0.55, 0.48, 0.51, 0.54, 0.41, 0.58, 0.47, 0.45, 0.54, 0.54, 0.51, 0.42, 0.42, 0.52, 0.48, 0.45, 0.47, 0.58, 0.48, 0.55, 0.51, 0.49, 0.54, 0.49, 0.45, 0.41, 0.5, 0.6, 0.49, 0.55, 0.5, 0.53, 0.53, 0.54, 0.44, 0.44, 0.61, 0.49, 0.56, 0.45, 0.51, 0.53, 0.4, 0.49, 0.51, 0.49, 0.53, 0.52, 0.48, 0.53, 0.5, 0.42, 0.61, 0.45, 0.41, 0.47, 0.47, 0.49, 0.45, 0.44, 0.47, 0.44, 0.52, 0.55, 0.51, 0.59, 0.45, 0.48, 0.53, 0.51, 0.51, 0.51, 0.49, 0.6, 0.57, 0.38, 0.52, 0.39, 0.46, 0.54, 0.47, 0.51, 0.44, 0.53, 0.56, 0.52, 0.54, 0.55, 0.45, 0.57, 0.55, 0.49, 0.43, 0.46, 0.5, 0.47, 0.53, 0.47, 0.47, 0.49, 0.5, 0.48, 0.49, 0.48, 0.47, 0.5, 0.46, 0.51, 0.53, 0.48, 0.48, 0.61, 0.49, 0.59, 0.58, 0.57, 0.53, 0.53, 0.51, 0.43, 0.45, 0.51, 0.55, 0.51, 0.45, 0.44, 0.47, 0.57, 0.51, 0.51, 0.58, 0.5, 0.56, 0.45, 0.43, 0.48, 0.45, 0.48, 0.48, 0.5, 0.42, 0.69, 0.55, 0.45, 0.52, 0.5, 0.51, 0.5, 0.51, 0.51, 0.48, 0.47, 0.6, 0.52, 0.61, 0.43, 0.51, 0.5, 0.44, 0.52, 0.47, 0.55, 0.45, 0.59, 0.53, 0.44, 0.52, 0.44, 0.54, 0.5, 0.47, 0.48, 0.55, 0.53, 0.47, 0.48, 0.45, 0.44, 0.47, 0.48, 0.58, 0.49, 0.54, 0.46, 0.55, 0.48, 0.46, 0.5, 0.45, 0.43, 0.5, 0.57, 0.52, 0.56, 0.65, 0.56, 0.48, 0.54, 0.5, 0.48, 0.52, 0.55, 0.47, 0.52, 0.47, 0.54, 0.44, 0.42, 0.5, 0.52, 0.57, 0.46, 0.44, 0.48, 0.44, 0.53, 0.42, 0.45, 0.52, 0.49, 0.48, 0.6, 0.52, 0.53, 0.48, 0.49, 0.5, 0.4, 0.41, 0.57, 0.45, 0.53, 0.5, 0.53, 0.49, 0.48, 0.43, 0.59, 0.52, 0.57, 0.49, 0.47, 0.6, 0.49, 0.49, 0.48, 0.42, 0.47, 0.44, 0.54, 0.54, 0.52, 0.53, 0.63, 0.59, 0.47, 0.44, 0.42, 0.5, 0.55, 0.59, 0.45, 0.59, 0.55, 0.42, 0.52, 0.43, 0.44, 0.44, 0.53, 0.54, 0.41, 0.49, 0.43, 0.4, 0.46, 0.41, 0.44, 0.45, 0.47, 0.56, 0.54, 0.48, 0.5, 0.41, 0.47, 0.49, 0.47, 0.48, 0.46, 0.45, 0.52, 0.46, 0.58, 0.55, 0.55, 0.54, 0.53, 0.54, 0.47, 0.56, 0.58, 0.48, 0.56, 0.53, 0.35, 0.46, 0.44, 0.5, 0.5, 0.56, 0.48, 0.52, 0.49, 0.45, 0.52, 0.45, 0.46, 0.55, 0.52, 0.55, 0.53, 0.49, 0.54, 0.61, 0.58, 0.53, 0.5, 0.48, 0.48, 0.49, 0.53, 0.42, 0.52, 0.47, 0.55, 0.5, 0.42, 0.52, 0.53, 0.49, 0.46, 0.48, 0.51, 0.57, 0.47, 0.49, 0.56, 0.45, 0.47, 0.48, 0.62, 0.52, 0.43, 0.46, 0.58, 0.5, 0.58, 0.45, 0.53, 0.52, 0.43, 0.46, 0.59, 0.59, 0.54, 0.44, 0.47, 0.51, 0.56, 0.45, 0.48, 0.46, 0.48, 0.48, 0.54, 0.46, 0.55, 0.6, 0.48, 0.45, 0.49, 0.46, 0.43, 0.42, 0.44, 0.56, 0.54, 0.55, 0.49, 0.5, 0.55, 0.53, 0.51, 0.47, 0.58, 0.48, 0.39, 0.58, 0.46, 0.42, 0.54, 0.52, 0.49, 0.48, 0.55, 0.46, 0.52, 0.5, 0.5, 0.45, 0.48, 0.55, 0.55, 0.5, 0.49, 0.55, 0.56, 0.46, 0.43, 0.56, 0.47, 0.38, 0.43, 0.55, 0.56, 0.45, 0.53, 0.57, 0.51, 0.46, 0.48, 0.49, 0.55, 0.51, 0.52, 0.47, 0.48, 0.49, 0.57, 0.45, 0.58, 0.53, 0.54, 0.5, 0.42, 0.49, 0.47, 0.5, 0.55, 0.5, 0.47, 0.46, 0.52, 0.43, 0.56, 0.54, 0.56, 0.55, 0.56, 0.57, 0.55, 0.46, 0.45, 0.5, 0.44, 0.5, 0.5, 0.49, 0.51, 0.57, 0.56, 0.47, 0.47, 0.47, 0.49, 0.49, 0.49, 0.55, 0.46, 0.58, 0.63, 0.52, 0.52, 0.54, 0.51, 0.49, 0.52, 0.48, 0.58, 0.54, 0.56, 0.52, 0.46, 0.49, 0.39, 0.5, 0.51, 0.54, 0.45, 0.48, 0.46, 0.43, 0.6, 0.64, 0.48, 0.49, 0.47, 0.47, 0.55, 0.52, 0.54, 0.61, 0.48, 0.55, 0.49, 0.47, 0.52, 0.52, 0.5, 0.53, 0.53, 0.51, 0.44, 0.55, 0.48, 0.45, 0.52, 0.49, 0.49, 0.55, 0.48, 0.46, 0.42, 0.48, 0.54, 0.55, 0.56, 0.45, 0.46, 0.34, 0.47, 0.38, 0.54, 0.54, 0.46, 0.51, 0.46, 0.52, 0.39, 0.48, 0.54, 0.6, 0.51, 0.44, 0.51, 0.49, 0.44, 0.42, 0.52, 0.53, 0.45, 0.46, 0.57, 0.4, 0.49, 0.55, 0.46, 0.46, 0.5, 0.63, 0.43, 0.53, 0.52, 0.56, 0.5, 0.53, 0.53, 0.42, 0.42, 0.48, 0.51, 0.52, 0.55, 0.46, 0.52, 0.47, 0.5, 0.57, 0.57, 0.49, 0.46, 0.46, 0.55, 0.43, 0.49, 0.42, 0.58, 0.52, 0.51, 0.58, 0.45, 0.44, 0.48, 0.49, 0.52, 0.52, 0.57, 0.43, 0.57, 0.53, 0.57, 0.53, 0.44, 0.51, 0.5, 0.55, 0.36, 0.5, 0.47, 0.56, 0.47, 0.43, 0.52, 0.49, 0.48, 0.47, 0.47, 0.52, 0.52, 0.52, 0.48, 0.42, 0.49, 0.51, 0.5, 0.52, 0.54, 0.52, 0.56, 0.43, 0.38, 0.5, 0.47, 0.54, 0.52, 0.48, 0.54, 0.52, 0.51, 0.5, 0.5, 0.51, 0.43, 0.53, 0.48, 0.5, 0.47, 0.43, 0.49, 0.57, 0.45, 0.45, 0.58, 0.44, 0.42, 0.56, 0.5, 0.47, 0.51, 0.49, 0.58, 0.46, 0.54, 0.54, 0.44, 0.51, 0.49, 0.53, 0.52, 0.5, 0.5, 0.49, 0.42, 0.43, 0.41, 0.5, 0.43, 0.51, 0.52, 0.56, 0.5]\n"
          ],
          "name": "stdout"
        }
      ]
    },
    {
      "cell_type": "code",
      "metadata": {
        "id": "rfeA06evOT2K",
        "colab_type": "code",
        "outputId": "e1bcf3dc-565e-493f-e5ab-9a573a749b9c",
        "colab": {
          "base_uri": "https://localhost:8080/",
          "height": 204
        }
      },
      "source": [
        "# Create dataframe with single coin flip\n",
        "df = pd.DataFrame({'one-samp': one_sample})\n",
        "df.head()"
      ],
      "execution_count": 0,
      "outputs": [
        {
          "output_type": "execute_result",
          "data": {
            "text/html": [
              "<div>\n",
              "<style scoped>\n",
              "    .dataframe tbody tr th:only-of-type {\n",
              "        vertical-align: middle;\n",
              "    }\n",
              "\n",
              "    .dataframe tbody tr th {\n",
              "        vertical-align: top;\n",
              "    }\n",
              "\n",
              "    .dataframe thead th {\n",
              "        text-align: right;\n",
              "    }\n",
              "</style>\n",
              "<table border=\"1\" class=\"dataframe\">\n",
              "  <thead>\n",
              "    <tr style=\"text-align: right;\">\n",
              "      <th></th>\n",
              "      <th>one-samp</th>\n",
              "    </tr>\n",
              "  </thead>\n",
              "  <tbody>\n",
              "    <tr>\n",
              "      <th>0</th>\n",
              "      <td>1</td>\n",
              "    </tr>\n",
              "    <tr>\n",
              "      <th>1</th>\n",
              "      <td>0</td>\n",
              "    </tr>\n",
              "    <tr>\n",
              "      <th>2</th>\n",
              "      <td>1</td>\n",
              "    </tr>\n",
              "    <tr>\n",
              "      <th>3</th>\n",
              "      <td>0</td>\n",
              "    </tr>\n",
              "    <tr>\n",
              "      <th>4</th>\n",
              "      <td>1</td>\n",
              "    </tr>\n",
              "  </tbody>\n",
              "</table>\n",
              "</div>"
            ],
            "text/plain": [
              "   one-samp\n",
              "0         1\n",
              "1         0\n",
              "2         1\n",
              "3         0\n",
              "4         1"
            ]
          },
          "metadata": {
            "tags": []
          },
          "execution_count": 8
        }
      ]
    },
    {
      "cell_type": "code",
      "metadata": {
        "id": "GlMSNFX6OmBV",
        "colab_type": "code",
        "outputId": "e7fc39d4-b334-4c31-ad49-2abcdfec1e6c",
        "colab": {
          "base_uri": "https://localhost:8080/",
          "height": 315
        }
      },
      "source": [
        "# Plot histogram to look at distribution of a single coin flip \n",
        "df.hist()"
      ],
      "execution_count": 0,
      "outputs": [
        {
          "output_type": "execute_result",
          "data": {
            "text/plain": [
              "array([[<matplotlib.axes._subplots.AxesSubplot object at 0x7ff214a89780>]],\n",
              "      dtype=object)"
            ]
          },
          "metadata": {
            "tags": []
          },
          "execution_count": 9
        },
        {
          "output_type": "display_data",
          "data": {
            "image/png": "[encoded data removed]",
            "text/plain": [
              "<Figure size 432x288 with 1 Axes>"
            ]
          },
          "metadata": {
            "tags": []
          }
        }
      ]
    },
    {
      "cell_type": "code",
      "metadata": {
        "id": "Jie4ypgLOs5M",
        "colab_type": "code",
        "outputId": "50a29517-7100-4817-ecf6-057020295315",
        "colab": {
          "base_uri": "https://localhost:8080/",
          "height": 296
        }
      },
      "source": [
        "# Plot histogram to look at distribution of all coin flips\n",
        "ax = plt.hist(sample_means)\n",
        "plt.title(f'Distribtion of {N} sample means \\n (of 30 coinflips of each)');"
      ],
      "execution_count": 0,
      "outputs": [
        {
          "output_type": "display_data",
          "data": {
            "image/png": "[encoded data removed]",
            "text/plain": [
              "<Figure size 432x288 with 1 Axes>"
            ]
          },
          "metadata": {
            "tags": []
          }
        }
      ]
    },
    {
      "cell_type": "markdown",
      "metadata": {
        "id": "LsEAjc4rOylm",
        "colab_type": "text"
      },
      "source": [
        "What does the Central Limit Theorem State? That no matter the initial distribution of the population, the distribution of sample means taken will approximate a normal distribution as $n \\rightarrow \\infty$.\n",
        "\n",
        "This has very important implications for hypothesis testing and is precisely the reason why the t-distribution begins to approximate the normal distribution as our sample size increases. "
      ]
    },
    {
      "cell_type": "markdown",
      "metadata": {
        "id": "EYqo5vZZSFUr",
        "colab_type": "text"
      },
      "source": [
        "## Standard Error of the Mean\n",
        "\n",
        "What does it mean to \"estimate\"? the Population mean?"
      ]
    },
    {
      "cell_type": "code",
      "metadata": {
        "id": "puGXH6vbSIE4",
        "colab_type": "code",
        "outputId": "e544e656-062e-4103-f3c2-4996e7514fbc",
        "colab": {
          "base_uri": "https://localhost:8080/",
          "height": 68
        }
      },
      "source": [
        "import numpy as np\n",
        "import pandas as pd\n",
        "\n",
        "# Average Height\n",
        "mu = 70\n",
        "sigma = 3\n",
        "\n",
        "lambda_heights = np.random.normal(mu, sigma, 2000)\n",
        "print(len(lambda_heights))\n",
        "lambda_heights"
      ],
      "execution_count": 0,
      "outputs": [
        {
          "output_type": "stream",
          "text": [
            "2000\n"
          ],
          "name": "stdout"
        },
        {
          "output_type": "execute_result",
          "data": {
            "text/plain": [
              "array([66.90108928, 70.84717486, 72.37683043, ..., 65.71048083,\n",
              "       66.71224677, 70.63992345])"
            ]
          },
          "metadata": {
            "tags": []
          },
          "execution_count": 20
        }
      ]
    },
    {
      "cell_type": "code",
      "metadata": {
        "id": "2X-aKCTSXVOc",
        "colab_type": "code",
        "outputId": "b551141f-452e-45c7-c7f0-3a284a13c7b1",
        "colab": {
          "base_uri": "https://localhost:8080/",
          "height": 281
        }
      },
      "source": [
        "import seaborn as sns\n",
        "\n",
        "sns.distplot(lambda_heights)\n",
        "plt.title('Distribution of Heights (in inches)');"
      ],
      "execution_count": 0,
      "outputs": [
        {
          "output_type": "display_data",
          "data": {
            "image/png": "[encoded data removed]",
            "text/plain": [
              "<Figure size 432x288 with 1 Axes>"
            ]
          },
          "metadata": {
            "tags": []
          }
        }
      ]
    },
    {
      "cell_type": "code",
      "metadata": {
        "id": "fQlloeU4qwuI",
        "colab_type": "code",
        "outputId": "23bc2e4f-6a6e-4fe4-b6e5-b8307c1b2589",
        "colab": {
          "base_uri": "https://localhost:8080/",
          "height": 51
        }
      },
      "source": [
        "print(\"Population Mean:\", lambda_heights.mean())\n",
        "print(\"Population Standard Deviation:\", lambda_heights.std())"
      ],
      "execution_count": 0,
      "outputs": [
        {
          "output_type": "stream",
          "text": [
            "Population Mean: 70.02424579436976\n",
            "Population Standard Deviation: 3.042489431974776\n"
          ],
          "name": "stdout"
        }
      ]
    },
    {
      "cell_type": "code",
      "metadata": {
        "id": "sOD7gQMxq3ib",
        "colab_type": "code",
        "outputId": "b394a84c-bdbf-4fa5-e7b1-328164f04239",
        "colab": {
          "base_uri": "https://localhost:8080/",
          "height": 221
        }
      },
      "source": [
        "population = pd.DataFrame({'heights': lambda_heights})\n",
        "print(population.shape)\n",
        "population.head()"
      ],
      "execution_count": 0,
      "outputs": [
        {
          "output_type": "stream",
          "text": [
            "(2000, 1)\n"
          ],
          "name": "stdout"
        },
        {
          "output_type": "execute_result",
          "data": {
            "text/html": [
              "<div>\n",
              "<style scoped>\n",
              "    .dataframe tbody tr th:only-of-type {\n",
              "        vertical-align: middle;\n",
              "    }\n",
              "\n",
              "    .dataframe tbody tr th {\n",
              "        vertical-align: top;\n",
              "    }\n",
              "\n",
              "    .dataframe thead th {\n",
              "        text-align: right;\n",
              "    }\n",
              "</style>\n",
              "<table border=\"1\" class=\"dataframe\">\n",
              "  <thead>\n",
              "    <tr style=\"text-align: right;\">\n",
              "      <th></th>\n",
              "      <th>heights</th>\n",
              "    </tr>\n",
              "  </thead>\n",
              "  <tbody>\n",
              "    <tr>\n",
              "      <th>0</th>\n",
              "      <td>66.901089</td>\n",
              "    </tr>\n",
              "    <tr>\n",
              "      <th>1</th>\n",
              "      <td>70.847175</td>\n",
              "    </tr>\n",
              "    <tr>\n",
              "      <th>2</th>\n",
              "      <td>72.376830</td>\n",
              "    </tr>\n",
              "    <tr>\n",
              "      <th>3</th>\n",
              "      <td>70.116083</td>\n",
              "    </tr>\n",
              "    <tr>\n",
              "      <th>4</th>\n",
              "      <td>70.751211</td>\n",
              "    </tr>\n",
              "  </tbody>\n",
              "</table>\n",
              "</div>"
            ],
            "text/plain": [
              "     heights\n",
              "0  66.901089\n",
              "1  70.847175\n",
              "2  72.376830\n",
              "3  70.116083\n",
              "4  70.751211"
            ]
          },
          "metadata": {
            "tags": []
          },
          "execution_count": 23
        }
      ]
    },
    {
      "cell_type": "code",
      "metadata": {
        "id": "A1DEQgCAq75F",
        "colab_type": "code",
        "outputId": "4cb0e971-d723-4ec3-c949-1ba62d1dd0b4",
        "colab": {
          "base_uri": "https://localhost:8080/",
          "height": 221
        }
      },
      "source": [
        "# Take a random sample and print sample mean\n",
        "sample1 = population.sample(100)\n",
        "print(sample1.shape)\n",
        "sample1.head()"
      ],
      "execution_count": 0,
      "outputs": [
        {
          "output_type": "stream",
          "text": [
            "(100, 1)\n"
          ],
          "name": "stdout"
        },
        {
          "output_type": "execute_result",
          "data": {
            "text/html": [
              "<div>\n",
              "<style scoped>\n",
              "    .dataframe tbody tr th:only-of-type {\n",
              "        vertical-align: middle;\n",
              "    }\n",
              "\n",
              "    .dataframe tbody tr th {\n",
              "        vertical-align: top;\n",
              "    }\n",
              "\n",
              "    .dataframe thead th {\n",
              "        text-align: right;\n",
              "    }\n",
              "</style>\n",
              "<table border=\"1\" class=\"dataframe\">\n",
              "  <thead>\n",
              "    <tr style=\"text-align: right;\">\n",
              "      <th></th>\n",
              "      <th>heights</th>\n",
              "    </tr>\n",
              "  </thead>\n",
              "  <tbody>\n",
              "    <tr>\n",
              "      <th>890</th>\n",
              "      <td>67.598192</td>\n",
              "    </tr>\n",
              "    <tr>\n",
              "      <th>1619</th>\n",
              "      <td>74.184065</td>\n",
              "    </tr>\n",
              "    <tr>\n",
              "      <th>56</th>\n",
              "      <td>68.994803</td>\n",
              "    </tr>\n",
              "    <tr>\n",
              "      <th>1109</th>\n",
              "      <td>72.621634</td>\n",
              "    </tr>\n",
              "    <tr>\n",
              "      <th>568</th>\n",
              "      <td>72.411452</td>\n",
              "    </tr>\n",
              "  </tbody>\n",
              "</table>\n",
              "</div>"
            ],
            "text/plain": [
              "        heights\n",
              "890   67.598192\n",
              "1619  74.184065\n",
              "56    68.994803\n",
              "1109  72.621634\n",
              "568   72.411452"
            ]
          },
          "metadata": {
            "tags": []
          },
          "execution_count": 25
        }
      ]
    },
    {
      "cell_type": "code",
      "metadata": {
        "id": "uwT_pec7RnBP",
        "colab_type": "code",
        "outputId": "65b2fa2a-13eb-460d-e48a-b3e612798952",
        "colab": {
          "base_uri": "https://localhost:8080/",
          "height": 34
        }
      },
      "source": [
        "print('Sample1 Mean #1:', sample1['heights'].mean())"
      ],
      "execution_count": 0,
      "outputs": [
        {
          "output_type": "stream",
          "text": [
            "Sample1 Mean #1: 69.8108354823691\n"
          ],
          "name": "stdout"
        }
      ]
    },
    {
      "cell_type": "code",
      "metadata": {
        "id": "SpMBMasFrJQK",
        "colab_type": "code",
        "colab": {}
      },
      "source": [
        "# Take a different random sample and print sample mean"
      ],
      "execution_count": 0,
      "outputs": []
    },
    {
      "cell_type": "code",
      "metadata": {
        "id": "CHL2XZDZRwV-",
        "colab_type": "code",
        "outputId": "03524a1c-76c1-4953-f74f-def13078d175",
        "colab": {
          "base_uri": "https://localhost:8080/",
          "height": 221
        }
      },
      "source": [
        "sample2 = population.sample(100)\n",
        "print(sample2.shape)\n",
        "sample2.head()"
      ],
      "execution_count": 0,
      "outputs": [
        {
          "output_type": "stream",
          "text": [
            "(100, 1)\n"
          ],
          "name": "stdout"
        },
        {
          "output_type": "execute_result",
          "data": {
            "text/html": [
              "<div>\n",
              "<style scoped>\n",
              "    .dataframe tbody tr th:only-of-type {\n",
              "        vertical-align: middle;\n",
              "    }\n",
              "\n",
              "    .dataframe tbody tr th {\n",
              "        vertical-align: top;\n",
              "    }\n",
              "\n",
              "    .dataframe thead th {\n",
              "        text-align: right;\n",
              "    }\n",
              "</style>\n",
              "<table border=\"1\" class=\"dataframe\">\n",
              "  <thead>\n",
              "    <tr style=\"text-align: right;\">\n",
              "      <th></th>\n",
              "      <th>heights</th>\n",
              "    </tr>\n",
              "  </thead>\n",
              "  <tbody>\n",
              "    <tr>\n",
              "      <th>1680</th>\n",
              "      <td>63.458686</td>\n",
              "    </tr>\n",
              "    <tr>\n",
              "      <th>276</th>\n",
              "      <td>67.978647</td>\n",
              "    </tr>\n",
              "    <tr>\n",
              "      <th>665</th>\n",
              "      <td>72.300605</td>\n",
              "    </tr>\n",
              "    <tr>\n",
              "      <th>1375</th>\n",
              "      <td>69.306754</td>\n",
              "    </tr>\n",
              "    <tr>\n",
              "      <th>1695</th>\n",
              "      <td>70.259486</td>\n",
              "    </tr>\n",
              "  </tbody>\n",
              "</table>\n",
              "</div>"
            ],
            "text/plain": [
              "        heights\n",
              "1680  63.458686\n",
              "276   67.978647\n",
              "665   72.300605\n",
              "1375  69.306754\n",
              "1695  70.259486"
            ]
          },
          "metadata": {
            "tags": []
          },
          "execution_count": 27
        }
      ]
    },
    {
      "cell_type": "code",
      "metadata": {
        "id": "zX-oJuL7RzT_",
        "colab_type": "code",
        "outputId": "26a5eb56-c47d-4f4a-c744-624f06d3eb9c",
        "colab": {
          "base_uri": "https://localhost:8080/",
          "height": 34
        }
      },
      "source": [
        "print('Sample1 Mean #2:', sample2['heights'].mean())"
      ],
      "execution_count": 0,
      "outputs": [
        {
          "output_type": "stream",
          "text": [
            "Sample1 Mean #2: 70.08812374010863\n"
          ],
          "name": "stdout"
        }
      ]
    },
    {
      "cell_type": "markdown",
      "metadata": {
        "id": "nfdQf8QYUUmw",
        "colab_type": "text"
      },
      "source": [
        "## Build and Interpret a Confidence Interval\n",
        "\n",
        "<img src=\"https://github.com/ryanallredblog/ryanallredblog.github.io/blob/master/img/Confidence_Interval.png?raw=true\" width=400>"
      ]
    },
    {
      "cell_type": "code",
      "metadata": {
        "id": "tBx71Kf0UjT3",
        "colab_type": "code",
        "outputId": "64acac1a-2594-4be5-a3e8-a1430bd856cb",
        "colab": {
          "base_uri": "https://localhost:8080/",
          "height": 51
        }
      },
      "source": [
        "coinflips_100 = np.random.binomial(n=1, p=0.5, size=100)\n",
        "\n",
        "sample_std = np.std(coinflips_100)\n",
        "print('Sample St Dev:', sample_std)\n",
        "sample_size = len(coinflips_100)\n",
        "print('Sample Size:', sample_size)"
      ],
      "execution_count": 0,
      "outputs": [
        {
          "output_type": "stream",
          "text": [
            "Sample St Dev: 0.4998999899979995\n",
            "Sample Size: 100\n"
          ],
          "name": "stdout"
        }
      ]
    },
    {
      "cell_type": "code",
      "metadata": {
        "id": "2VxB61-rTGFH",
        "colab_type": "code",
        "outputId": "9b264f61-9150-40e2-c84c-509115e794f0",
        "colab": {
          "base_uri": "https://localhost:8080/",
          "height": 34
        }
      },
      "source": [
        "standard_error = sample_std/np.sqrt(sample_size)\n",
        "print(standard_error)"
      ],
      "execution_count": 0,
      "outputs": [
        {
          "output_type": "stream",
          "text": [
            "0.04998999899979995\n"
          ],
          "name": "stdout"
        }
      ]
    },
    {
      "cell_type": "markdown",
      "metadata": {
        "id": "RkYC5rnUw914",
        "colab_type": "text"
      },
      "source": [
        "### What confidence level do we want our confidence interval to represent?\n",
        "\n",
        "95% confidence Interval? 99% confidence interval? "
      ]
    },
    {
      "cell_type": "code",
      "metadata": {
        "id": "EARLNZk9TpGK",
        "colab_type": "code",
        "outputId": "4643d2c2-8001-4978-8f30-cc3faab57e91",
        "colab": {
          "base_uri": "https://localhost:8080/",
          "height": 391
        }
      },
      "source": [
        "import scipy.stats as stats\n",
        "help(stats.t.ppf)"
      ],
      "execution_count": 0,
      "outputs": [
        {
          "output_type": "stream",
          "text": [
            "Help on method ppf in module scipy.stats._distn_infrastructure:\n",
            "\n",
            "ppf(q, *args, **kwds) method of scipy.stats._continuous_distns.t_gen instance\n",
            "    Percent point function (inverse of `cdf`) at q of the given RV.\n",
            "    \n",
            "    Parameters\n",
            "    ----------\n",
            "    q : array_like\n",
            "        lower tail probability\n",
            "    arg1, arg2, arg3,... : array_like\n",
            "        The shape parameter(s) for the distribution (see docstring of the\n",
            "        instance object for more information)\n",
            "    loc : array_like, optional\n",
            "        location parameter (default=0)\n",
            "    scale : array_like, optional\n",
            "        scale parameter (default=1)\n",
            "    \n",
            "    Returns\n",
            "    -------\n",
            "    x : array_like\n",
            "        quantile corresponding to the lower tail probability q.\n",
            "\n"
          ],
          "name": "stdout"
        }
      ]
    },
    {
      "cell_type": "code",
      "metadata": {
        "id": "jze1zJsewQx_",
        "colab_type": "code",
        "outputId": "a287193b-1958-409e-d4ec-45dc40a565ce",
        "colab": {
          "base_uri": "https://localhost:8080/",
          "height": 34
        }
      },
      "source": [
        "t = stats.t.ppf(0.975, sample_size-1)\n",
        "t"
      ],
      "execution_count": 0,
      "outputs": [
        {
          "output_type": "execute_result",
          "data": {
            "text/plain": [
              "1.9842169515086827"
            ]
          },
          "metadata": {
            "tags": []
          },
          "execution_count": 45
        }
      ]
    },
    {
      "cell_type": "code",
      "metadata": {
        "id": "PajKQbhyVvgR",
        "colab_type": "code",
        "outputId": "506c2d36-64b3-4979-9596-7c26d7ce8af1",
        "colab": {
          "base_uri": "https://localhost:8080/",
          "height": 68
        }
      },
      "source": [
        "sample_mean = coinflips_100.mean()\n",
        "confidence_interval = (sample_mean - t* standard_error, sample_mean + t* standard_error)\n",
        "margin_of_error = t* standard_error\n",
        "\n",
        "print(\"Sample Mean: \", sample_mean)\n",
        "print(\"Margin of Error: \", margin_of_error)\n",
        "print(\"Confidence Interval: \", confidence_interval)"
      ],
      "execution_count": 0,
      "outputs": [
        {
          "output_type": "stream",
          "text": [
            "Sample Mean:  0.51\n",
            "Margin of Error:  0.09919100342130516\n",
            "Confidence Interval:  (0.41080899657869485, 0.6091910034213052)\n"
          ],
          "name": "stdout"
        }
      ]
    },
    {
      "cell_type": "markdown",
      "metadata": {
        "id": "C4rtc8luVUAK",
        "colab_type": "text"
      },
      "source": [
        "## Graphically Represent a Confidence Interval"
      ]
    },
    {
      "cell_type": "code",
      "metadata": {
        "id": "pz6F9_3_VmKr",
        "colab_type": "code",
        "outputId": "6adb71bf-1c57-49f0-e7b0-4fccf77ad63a",
        "colab": {
          "base_uri": "https://localhost:8080/",
          "height": 270
        }
      },
      "source": [
        "import seaborn as sns\n",
        "\n",
        "sns.kdeplot(coinflips_100);\n",
        "plt.axvline(x=sample_mean, color='k')\n",
        "plt.axvline(x=confidence_interval[0], color='r')\n",
        "plt.axvline(x=confidence_interval[1], color='r');"
      ],
      "execution_count": 0,
      "outputs": [
        {
          "output_type": "display_data",
          "data": {
            "image/png": "[encoded data removed]",
            "text/plain": [
              "<Figure size 432x288 with 1 Axes>"
            ]
          },
          "metadata": {
            "tags": []
          }
        }
      ]
    },
    {
      "cell_type": "markdown",
      "metadata": {
        "id": "_oy0uoBGeoEb",
        "colab_type": "text"
      },
      "source": [
        "## Relationship between Confidence Intervals and T-tests\n",
        "\n",
        "Confidence Interval == Bounds of statistical significance for our t-test\n",
        "\n",
        "A sample mean that falls inside of our confidence interval will \"FAIL TO REJECT\" our null hypothesis\n",
        "\n",
        "A sample mean that falls outside of our confidence interval will \"REJECT\" our null hypothesis"
      ]
    },
    {
      "cell_type": "code",
      "metadata": {
        "id": "izIyVavzfCXS",
        "colab_type": "code",
        "colab": {}
      },
      "source": [
        "from scipy.stats import t, ttest_1samp"
      ],
      "execution_count": 0,
      "outputs": []
    },
    {
      "cell_type": "code",
      "metadata": {
        "id": "Y7HwdMwDfL1N",
        "colab_type": "code",
        "outputId": "263b6ab0-2639-4895-ea48-a9e547b21234",
        "colab": {
          "base_uri": "https://localhost:8080/",
          "height": 54
        }
      },
      "source": [
        "import numpy as np\n",
        "\n",
        "coinflip_means = []\n",
        "for x in range(0,100):\n",
        "  coinflips = np.random.binomial(n=1, p=.5, size=30)\n",
        "  coinflip_means.append(coinflips.mean())\n",
        "\n",
        "print(coinflip_means)"
      ],
      "execution_count": 0,
      "outputs": [
        {
          "output_type": "stream",
          "text": [
            "[0.4, 0.4666666666666667, 0.4, 0.43333333333333335, 0.4666666666666667, 0.43333333333333335, 0.4, 0.5666666666666667, 0.5333333333333333, 0.4666666666666667, 0.4666666666666667, 0.6333333333333333, 0.5333333333333333, 0.6333333333333333, 0.6666666666666666, 0.5333333333333333, 0.5666666666666667, 0.4666666666666667, 0.5333333333333333, 0.5666666666666667, 0.4666666666666667, 0.5666666666666667, 0.4666666666666667, 0.6333333333333333, 0.4666666666666667, 0.5333333333333333, 0.4666666666666667, 0.43333333333333335, 0.5, 0.5, 0.6, 0.5666666666666667, 0.5333333333333333, 0.5333333333333333, 0.5333333333333333, 0.43333333333333335, 0.5333333333333333, 0.4, 0.4666666666666667, 0.43333333333333335, 0.5333333333333333, 0.5666666666666667, 0.4666666666666667, 0.6666666666666666, 0.36666666666666664, 0.4, 0.4, 0.36666666666666664, 0.6, 0.4, 0.5333333333333333, 0.36666666666666664, 0.5333333333333333, 0.5333333333333333, 0.3, 0.43333333333333335, 0.4666666666666667, 0.5333333333333333, 0.4666666666666667, 0.43333333333333335, 0.5333333333333333, 0.5, 0.5666666666666667, 0.4, 0.5333333333333333, 0.4666666666666667, 0.6333333333333333, 0.5333333333333333, 0.5666666666666667, 0.3, 0.6, 0.43333333333333335, 0.43333333333333335, 0.4666666666666667, 0.6, 0.5333333333333333, 0.6333333333333333, 0.3, 0.6, 0.43333333333333335, 0.5, 0.4666666666666667, 0.4666666666666667, 0.5333333333333333, 0.36666666666666664, 0.5, 0.43333333333333335, 0.5333333333333333, 0.5666666666666667, 0.6, 0.4666666666666667, 0.6666666666666666, 0.8, 0.5666666666666667, 0.5, 0.5333333333333333, 0.6333333333333333, 0.5, 0.5666666666666667, 0.43333333333333335]\n"
          ],
          "name": "stdout"
        }
      ]
    },
    {
      "cell_type": "code",
      "metadata": {
        "id": "8usG3lEQaDCZ",
        "colab_type": "code",
        "outputId": "9de63192-0897-4982-d350-91258909087e",
        "colab": {
          "base_uri": "https://localhost:8080/",
          "height": 34
        }
      },
      "source": [
        "np.mean(coinflip_means)"
      ],
      "execution_count": 0,
      "outputs": [
        {
          "output_type": "execute_result",
          "data": {
            "text/plain": [
              "0.5029999999999999"
            ]
          },
          "metadata": {
            "tags": []
          },
          "execution_count": 51
        }
      ]
    },
    {
      "cell_type": "code",
      "metadata": {
        "id": "PwxT1VFBaE6I",
        "colab_type": "code",
        "outputId": "af868b68-ed24-44d9-ff44-5bb2b1060ff4",
        "colab": {
          "base_uri": "https://localhost:8080/",
          "height": 51
        }
      },
      "source": [
        "# 95% confidence interval\n",
        "t_stat = stats.t.ppf(0.975, 99)\n",
        "print('T Statistic: ', t_stat)\n",
        "\n",
        "std_sample = np.std(coinflip_means)\n",
        "std_err = std_sample/np.sqrt(len(coinflip_means))\n",
        "\n",
        "CI = stats.t.interval(0.95, 99, loc=np.mean(coinflip_means), scale=std_err)\n",
        "print('95% confidence interval: ', CI)"
      ],
      "execution_count": 0,
      "outputs": [
        {
          "output_type": "stream",
          "text": [
            "T Statistic:  1.9842169515086827\n",
            "95% confidence interval:  (0.48575024138185613, 0.5202497586181436)\n"
          ],
          "name": "stdout"
        }
      ]
    },
    {
      "cell_type": "markdown",
      "metadata": {
        "id": "EamZNJhAf-fY",
        "colab_type": "text"
      },
      "source": [
        "A null hypothesis that's just inside of our confidence interval == fail to reject\n",
        "\n"
      ]
    },
    {
      "cell_type": "code",
      "metadata": {
        "id": "cNpzYbjpfirR",
        "colab_type": "code",
        "outputId": "5b8e1931-ab4c-4ecc-d86d-b14d634b7485",
        "colab": {
          "base_uri": "https://localhost:8080/",
          "height": 34
        }
      },
      "source": [
        "ttest_1samp(coinflip_means, 0.48575)"
      ],
      "execution_count": 0,
      "outputs": [
        {
          "output_type": "execute_result",
          "data": {
            "text/plain": [
              "Ttest_1sampResult(statistic=1.974298565903243, pvalue=0.051133955079730474)"
            ]
          },
          "metadata": {
            "tags": []
          },
          "execution_count": 57
        }
      ]
    },
    {
      "cell_type": "markdown",
      "metadata": {
        "id": "hO34mbL9gHn1",
        "colab_type": "text"
      },
      "source": [
        "A null hypothesis that's just outside of our confidence interval == reject\n",
        "\n"
      ]
    },
    {
      "cell_type": "code",
      "metadata": {
        "id": "v-_OzHQ3Zj3y",
        "colab_type": "code",
        "outputId": "f1de7e82-e469-431f-e630-05674acd484b",
        "colab": {
          "base_uri": "https://localhost:8080/",
          "height": 34
        }
      },
      "source": [
        "ttest_1samp(coinflip_means, 0.520249)"
      ],
      "execution_count": 0,
      "outputs": [
        {
          "output_type": "execute_result",
          "data": {
            "text/plain": [
              "Ttest_1sampResult(statistic=-1.9741841138124883, pvalue=0.051147166772916766)"
            ]
          },
          "metadata": {
            "tags": []
          },
          "execution_count": 58
        }
      ]
    },
    {
      "cell_type": "code",
      "metadata": {
        "id": "rQZvNu6B3b9b",
        "colab_type": "code",
        "colab": {}
      },
      "source": [
        "def confidence_interval(data, confidence=0.95):\n",
        "  \"\"\"\n",
        "  Calculate a confidence interval around a sample mean for given data.\n",
        "  Using t-distribution and two-tailed test, default 95% confidence. \n",
        "  \n",
        "  Arguments:\n",
        "    data - iterable (list or numpy array) of sample observations\n",
        "    confidence - level of confidence for the interval\n",
        "  \n",
        "  Returns:\n",
        "    tuple of (mean, lower bound, upper bound)\n",
        "  \"\"\"\n",
        "  data = np.array(data)\n",
        "  mean = np.mean(data)\n",
        "  n = len(data)\n",
        "  stderr = stats.sem(data)\n",
        "  interval = stderr * stats.t.ppf((1 + confidence) / 2.0, n - 1)\n",
        "  return (mean, mean - interval, mean + interval)"
      ],
      "execution_count": 0,
      "outputs": []
    },
    {
      "cell_type": "markdown",
      "metadata": {
        "id": "pTIzrkKdUaLl",
        "colab_type": "text"
      },
      "source": [
        "## Run a $\\chi^{2}$ Test \"by hand\" (Using Numpy)"
      ]
    },
    {
      "cell_type": "code",
      "metadata": {
        "id": "DDsovHUyUj3v",
        "colab_type": "code",
        "outputId": "cae24235-6f55-4a99-8d18-2276e87fda2e",
        "colab": {
          "base_uri": "https://localhost:8080/",
          "height": 221
        }
      },
      "source": [
        "df = pd.read_csv('https://raw.githubusercontent.com/ryanleeallred/datasets/master/adult.csv', na_values=\" ?\")\n",
        "print(df.shape)\n",
        "df.head()"
      ],
      "execution_count": 0,
      "outputs": [
        {
          "output_type": "stream",
          "text": [
            "(32561, 15)\n"
          ],
          "name": "stdout"
        },
        {
          "output_type": "execute_result",
          "data": {
            "text/html": [
              "<div>\n",
              "<style scoped>\n",
              "    .dataframe tbody tr th:only-of-type {\n",
              "        vertical-align: middle;\n",
              "    }\n",
              "\n",
              "    .dataframe tbody tr th {\n",
              "        vertical-align: top;\n",
              "    }\n",
              "\n",
              "    .dataframe thead th {\n",
              "        text-align: right;\n",
              "    }\n",
              "</style>\n",
              "<table border=\"1\" class=\"dataframe\">\n",
              "  <thead>\n",
              "    <tr style=\"text-align: right;\">\n",
              "      <th></th>\n",
              "      <th>age</th>\n",
              "      <th>workclass</th>\n",
              "      <th>fnlwgt</th>\n",
              "      <th>education</th>\n",
              "      <th>education-num</th>\n",
              "      <th>marital-status</th>\n",
              "      <th>occupation</th>\n",
              "      <th>relationship</th>\n",
              "      <th>race</th>\n",
              "      <th>sex</th>\n",
              "      <th>capital-gain</th>\n",
              "      <th>capital-loss</th>\n",
              "      <th>hours-per-week</th>\n",
              "      <th>country</th>\n",
              "      <th>salary</th>\n",
              "    </tr>\n",
              "  </thead>\n",
              "  <tbody>\n",
              "    <tr>\n",
              "      <th>0</th>\n",
              "      <td>39</td>\n",
              "      <td>State-gov</td>\n",
              "      <td>77516</td>\n",
              "      <td>Bachelors</td>\n",
              "      <td>13</td>\n",
              "      <td>Never-married</td>\n",
              "      <td>Adm-clerical</td>\n",
              "      <td>Not-in-family</td>\n",
              "      <td>White</td>\n",
              "      <td>Male</td>\n",
              "      <td>2174</td>\n",
              "      <td>0</td>\n",
              "      <td>40</td>\n",
              "      <td>United-States</td>\n",
              "      <td>&lt;=50K</td>\n",
              "    </tr>\n",
              "    <tr>\n",
              "      <th>1</th>\n",
              "      <td>50</td>\n",
              "      <td>Self-emp-not-inc</td>\n",
              "      <td>83311</td>\n",
              "      <td>Bachelors</td>\n",
              "      <td>13</td>\n",
              "      <td>Married-civ-spouse</td>\n",
              "      <td>Exec-managerial</td>\n",
              "      <td>Husband</td>\n",
              "      <td>White</td>\n",
              "      <td>Male</td>\n",
              "      <td>0</td>\n",
              "      <td>0</td>\n",
              "      <td>13</td>\n",
              "      <td>United-States</td>\n",
              "      <td>&lt;=50K</td>\n",
              "    </tr>\n",
              "    <tr>\n",
              "      <th>2</th>\n",
              "      <td>38</td>\n",
              "      <td>Private</td>\n",
              "      <td>215646</td>\n",
              "      <td>HS-grad</td>\n",
              "      <td>9</td>\n",
              "      <td>Divorced</td>\n",
              "      <td>Handlers-cleaners</td>\n",
              "      <td>Not-in-family</td>\n",
              "      <td>White</td>\n",
              "      <td>Male</td>\n",
              "      <td>0</td>\n",
              "      <td>0</td>\n",
              "      <td>40</td>\n",
              "      <td>United-States</td>\n",
              "      <td>&lt;=50K</td>\n",
              "    </tr>\n",
              "    <tr>\n",
              "      <th>3</th>\n",
              "      <td>53</td>\n",
              "      <td>Private</td>\n",
              "      <td>234721</td>\n",
              "      <td>11th</td>\n",
              "      <td>7</td>\n",
              "      <td>Married-civ-spouse</td>\n",
              "      <td>Handlers-cleaners</td>\n",
              "      <td>Husband</td>\n",
              "      <td>Black</td>\n",
              "      <td>Male</td>\n",
              "      <td>0</td>\n",
              "      <td>0</td>\n",
              "      <td>40</td>\n",
              "      <td>United-States</td>\n",
              "      <td>&lt;=50K</td>\n",
              "    </tr>\n",
              "    <tr>\n",
              "      <th>4</th>\n",
              "      <td>28</td>\n",
              "      <td>Private</td>\n",
              "      <td>338409</td>\n",
              "      <td>Bachelors</td>\n",
              "      <td>13</td>\n",
              "      <td>Married-civ-spouse</td>\n",
              "      <td>Prof-specialty</td>\n",
              "      <td>Wife</td>\n",
              "      <td>Black</td>\n",
              "      <td>Female</td>\n",
              "      <td>0</td>\n",
              "      <td>0</td>\n",
              "      <td>40</td>\n",
              "      <td>Cuba</td>\n",
              "      <td>&lt;=50K</td>\n",
              "    </tr>\n",
              "  </tbody>\n",
              "</table>\n",
              "</div>"
            ],
            "text/plain": [
              "   age          workclass  fnlwgt  ... hours-per-week         country  salary\n",
              "0   39          State-gov   77516  ...             40   United-States   <=50K\n",
              "1   50   Self-emp-not-inc   83311  ...             13   United-States   <=50K\n",
              "2   38            Private  215646  ...             40   United-States   <=50K\n",
              "3   53            Private  234721  ...             40   United-States   <=50K\n",
              "4   28            Private  338409  ...             40            Cuba   <=50K\n",
              "\n",
              "[5 rows x 15 columns]"
            ]
          },
          "metadata": {
            "tags": []
          },
          "execution_count": 60
        }
      ]
    },
    {
      "cell_type": "code",
      "metadata": {
        "id": "C11nWaal-acY",
        "colab_type": "code",
        "outputId": "4689d85e-e926-49b4-90a5-6e32e92a55cb",
        "colab": {
          "base_uri": "https://localhost:8080/",
          "height": 297
        }
      },
      "source": [
        "df.describe()"
      ],
      "execution_count": 0,
      "outputs": [
        {
          "output_type": "execute_result",
          "data": {
            "text/html": [
              "<div>\n",
              "<style scoped>\n",
              "    .dataframe tbody tr th:only-of-type {\n",
              "        vertical-align: middle;\n",
              "    }\n",
              "\n",
              "    .dataframe tbody tr th {\n",
              "        vertical-align: top;\n",
              "    }\n",
              "\n",
              "    .dataframe thead th {\n",
              "        text-align: right;\n",
              "    }\n",
              "</style>\n",
              "<table border=\"1\" class=\"dataframe\">\n",
              "  <thead>\n",
              "    <tr style=\"text-align: right;\">\n",
              "      <th></th>\n",
              "      <th>age</th>\n",
              "      <th>fnlwgt</th>\n",
              "      <th>education-num</th>\n",
              "      <th>capital-gain</th>\n",
              "      <th>capital-loss</th>\n",
              "      <th>hours-per-week</th>\n",
              "    </tr>\n",
              "  </thead>\n",
              "  <tbody>\n",
              "    <tr>\n",
              "      <th>count</th>\n",
              "      <td>32561.000000</td>\n",
              "      <td>3.256100e+04</td>\n",
              "      <td>32561.000000</td>\n",
              "      <td>32561.000000</td>\n",
              "      <td>32561.000000</td>\n",
              "      <td>32561.000000</td>\n",
              "    </tr>\n",
              "    <tr>\n",
              "      <th>mean</th>\n",
              "      <td>38.581647</td>\n",
              "      <td>1.897784e+05</td>\n",
              "      <td>10.080679</td>\n",
              "      <td>1077.648844</td>\n",
              "      <td>87.303830</td>\n",
              "      <td>40.437456</td>\n",
              "    </tr>\n",
              "    <tr>\n",
              "      <th>std</th>\n",
              "      <td>13.640433</td>\n",
              "      <td>1.055500e+05</td>\n",
              "      <td>2.572720</td>\n",
              "      <td>7385.292085</td>\n",
              "      <td>402.960219</td>\n",
              "      <td>12.347429</td>\n",
              "    </tr>\n",
              "    <tr>\n",
              "      <th>min</th>\n",
              "      <td>17.000000</td>\n",
              "      <td>1.228500e+04</td>\n",
              "      <td>1.000000</td>\n",
              "      <td>0.000000</td>\n",
              "      <td>0.000000</td>\n",
              "      <td>1.000000</td>\n",
              "    </tr>\n",
              "    <tr>\n",
              "      <th>25%</th>\n",
              "      <td>28.000000</td>\n",
              "      <td>1.178270e+05</td>\n",
              "      <td>9.000000</td>\n",
              "      <td>0.000000</td>\n",
              "      <td>0.000000</td>\n",
              "      <td>40.000000</td>\n",
              "    </tr>\n",
              "    <tr>\n",
              "      <th>50%</th>\n",
              "      <td>37.000000</td>\n",
              "      <td>1.783560e+05</td>\n",
              "      <td>10.000000</td>\n",
              "      <td>0.000000</td>\n",
              "      <td>0.000000</td>\n",
              "      <td>40.000000</td>\n",
              "    </tr>\n",
              "    <tr>\n",
              "      <th>75%</th>\n",
              "      <td>48.000000</td>\n",
              "      <td>2.370510e+05</td>\n",
              "      <td>12.000000</td>\n",
              "      <td>0.000000</td>\n",
              "      <td>0.000000</td>\n",
              "      <td>45.000000</td>\n",
              "    </tr>\n",
              "    <tr>\n",
              "      <th>max</th>\n",
              "      <td>90.000000</td>\n",
              "      <td>1.484705e+06</td>\n",
              "      <td>16.000000</td>\n",
              "      <td>99999.000000</td>\n",
              "      <td>4356.000000</td>\n",
              "      <td>99.000000</td>\n",
              "    </tr>\n",
              "  </tbody>\n",
              "</table>\n",
              "</div>"
            ],
            "text/plain": [
              "                age        fnlwgt  ...  capital-loss  hours-per-week\n",
              "count  32561.000000  3.256100e+04  ...  32561.000000    32561.000000\n",
              "mean      38.581647  1.897784e+05  ...     87.303830       40.437456\n",
              "std       13.640433  1.055500e+05  ...    402.960219       12.347429\n",
              "min       17.000000  1.228500e+04  ...      0.000000        1.000000\n",
              "25%       28.000000  1.178270e+05  ...      0.000000       40.000000\n",
              "50%       37.000000  1.783560e+05  ...      0.000000       40.000000\n",
              "75%       48.000000  2.370510e+05  ...      0.000000       45.000000\n",
              "max       90.000000  1.484705e+06  ...   4356.000000       99.000000\n",
              "\n",
              "[8 rows x 6 columns]"
            ]
          },
          "metadata": {
            "tags": []
          },
          "execution_count": 61
        }
      ]
    },
    {
      "cell_type": "code",
      "metadata": {
        "id": "jWsINb4gdaG5",
        "colab_type": "code",
        "outputId": "24a1fc29-dc3c-4249-c3f6-55824e3ae690",
        "colab": {
          "base_uri": "https://localhost:8080/",
          "height": 173
        }
      },
      "source": [
        "df.describe(exclude='number')"
      ],
      "execution_count": 0,
      "outputs": [
        {
          "output_type": "execute_result",
          "data": {
            "text/html": [
              "<div>\n",
              "<style scoped>\n",
              "    .dataframe tbody tr th:only-of-type {\n",
              "        vertical-align: middle;\n",
              "    }\n",
              "\n",
              "    .dataframe tbody tr th {\n",
              "        vertical-align: top;\n",
              "    }\n",
              "\n",
              "    .dataframe thead th {\n",
              "        text-align: right;\n",
              "    }\n",
              "</style>\n",
              "<table border=\"1\" class=\"dataframe\">\n",
              "  <thead>\n",
              "    <tr style=\"text-align: right;\">\n",
              "      <th></th>\n",
              "      <th>workclass</th>\n",
              "      <th>education</th>\n",
              "      <th>marital-status</th>\n",
              "      <th>occupation</th>\n",
              "      <th>relationship</th>\n",
              "      <th>race</th>\n",
              "      <th>sex</th>\n",
              "      <th>country</th>\n",
              "      <th>salary</th>\n",
              "    </tr>\n",
              "  </thead>\n",
              "  <tbody>\n",
              "    <tr>\n",
              "      <th>count</th>\n",
              "      <td>30725</td>\n",
              "      <td>32561</td>\n",
              "      <td>32561</td>\n",
              "      <td>30718</td>\n",
              "      <td>32561</td>\n",
              "      <td>32561</td>\n",
              "      <td>32561</td>\n",
              "      <td>31978</td>\n",
              "      <td>32561</td>\n",
              "    </tr>\n",
              "    <tr>\n",
              "      <th>unique</th>\n",
              "      <td>8</td>\n",
              "      <td>16</td>\n",
              "      <td>7</td>\n",
              "      <td>14</td>\n",
              "      <td>6</td>\n",
              "      <td>5</td>\n",
              "      <td>2</td>\n",
              "      <td>41</td>\n",
              "      <td>2</td>\n",
              "    </tr>\n",
              "    <tr>\n",
              "      <th>top</th>\n",
              "      <td>Private</td>\n",
              "      <td>HS-grad</td>\n",
              "      <td>Married-civ-spouse</td>\n",
              "      <td>Prof-specialty</td>\n",
              "      <td>Husband</td>\n",
              "      <td>White</td>\n",
              "      <td>Male</td>\n",
              "      <td>United-States</td>\n",
              "      <td>&lt;=50K</td>\n",
              "    </tr>\n",
              "    <tr>\n",
              "      <th>freq</th>\n",
              "      <td>22696</td>\n",
              "      <td>10501</td>\n",
              "      <td>14976</td>\n",
              "      <td>4140</td>\n",
              "      <td>13193</td>\n",
              "      <td>27816</td>\n",
              "      <td>21790</td>\n",
              "      <td>29170</td>\n",
              "      <td>24720</td>\n",
              "    </tr>\n",
              "  </tbody>\n",
              "</table>\n",
              "</div>"
            ],
            "text/plain": [
              "       workclass education       marital-status  ...    sex         country  salary\n",
              "count      30725     32561                32561  ...  32561           31978   32561\n",
              "unique         8        16                    7  ...      2              41       2\n",
              "top      Private   HS-grad   Married-civ-spouse  ...   Male   United-States   <=50K\n",
              "freq       22696     10501                14976  ...  21790           29170   24720\n",
              "\n",
              "[4 rows x 9 columns]"
            ]
          },
          "metadata": {
            "tags": []
          },
          "execution_count": 62
        }
      ]
    },
    {
      "cell_type": "code",
      "metadata": {
        "id": "KeAR0iLGeXbV",
        "colab_type": "code",
        "outputId": "a78cf46e-a7e6-420e-fbde-b7f1cb2921ca",
        "colab": {
          "base_uri": "https://localhost:8080/",
          "height": 269
        }
      },
      "source": [
        "df['hours-per-week'].hist(bins=10);"
      ],
      "execution_count": 0,
      "outputs": [
        {
          "output_type": "display_data",
          "data": {
            "image/png": "[encoded data removed]",
            "text/plain": [
              "<Figure size 432x288 with 1 Axes>"
            ]
          },
          "metadata": {
            "tags": []
          }
        }
      ]
    },
    {
      "cell_type": "code",
      "metadata": {
        "id": "AWUYZW0-dt3X",
        "colab_type": "code",
        "outputId": "74483b4a-b9f8-419a-bf48-b8698bce5664",
        "colab": {
          "base_uri": "https://localhost:8080/",
          "height": 136
        }
      },
      "source": [
        "cut_points = [0, 9, 19, 29, 39, 49, 500]\n",
        "label_names = ['0-9', '10-19', '20-29', '30-39', '40-49', '50+']\n",
        "\n",
        "df['hours_per_week_categories'] = pd.cut(df['hours-per-week'], cut_points, labels=label_names)\n",
        "df.hours_per_week_categories.value_counts()"
      ],
      "execution_count": 0,
      "outputs": [
        {
          "output_type": "execute_result",
          "data": {
            "text/plain": [
              "40-49    18336\n",
              "50+       6462\n",
              "30-39     3667\n",
              "20-29     2392\n",
              "10-19     1246\n",
              "0-9        458\n",
              "Name: hours_per_week_categories, dtype: int64"
            ]
          },
          "metadata": {
            "tags": []
          },
          "execution_count": 63
        }
      ]
    },
    {
      "cell_type": "code",
      "metadata": {
        "id": "FBnNY9fCeiid",
        "colab_type": "code",
        "outputId": "8c77b696-5c24-4e20-b7d0-43e5e4e0e02b",
        "colab": {
          "base_uri": "https://localhost:8080/",
          "height": 68
        }
      },
      "source": [
        "df.sex.value_counts()"
      ],
      "execution_count": 0,
      "outputs": [
        {
          "output_type": "execute_result",
          "data": {
            "text/plain": [
              " Male      21790\n",
              " Female    10771\n",
              "Name: sex, dtype: int64"
            ]
          },
          "metadata": {
            "tags": []
          },
          "execution_count": 67
        }
      ]
    },
    {
      "cell_type": "code",
      "metadata": {
        "id": "FGFpbc4ZelK0",
        "colab_type": "code",
        "outputId": "5ab39db1-862d-4ddb-94f3-3c41b7b3b848",
        "colab": {
          "base_uri": "https://localhost:8080/",
          "height": 173
        }
      },
      "source": [
        "df = df.sort_values(by='hours_per_week_categories', ascending=True)\n",
        "contingency_table = pd.crosstab(df['sex'], df['hours_per_week_categories'], margins=True)\n",
        "contingency_table"
      ],
      "execution_count": 0,
      "outputs": [
        {
          "output_type": "execute_result",
          "data": {
            "text/html": [
              "<div>\n",
              "<style scoped>\n",
              "    .dataframe tbody tr th:only-of-type {\n",
              "        vertical-align: middle;\n",
              "    }\n",
              "\n",
              "    .dataframe tbody tr th {\n",
              "        vertical-align: top;\n",
              "    }\n",
              "\n",
              "    .dataframe thead th {\n",
              "        text-align: right;\n",
              "    }\n",
              "</style>\n",
              "<table border=\"1\" class=\"dataframe\">\n",
              "  <thead>\n",
              "    <tr style=\"text-align: right;\">\n",
              "      <th>hours_per_week_categories</th>\n",
              "      <th>0-9</th>\n",
              "      <th>10-19</th>\n",
              "      <th>20-29</th>\n",
              "      <th>30-39</th>\n",
              "      <th>40-49</th>\n",
              "      <th>50+</th>\n",
              "      <th>All</th>\n",
              "    </tr>\n",
              "    <tr>\n",
              "      <th>sex</th>\n",
              "      <th></th>\n",
              "      <th></th>\n",
              "      <th></th>\n",
              "      <th></th>\n",
              "      <th></th>\n",
              "      <th></th>\n",
              "      <th></th>\n",
              "    </tr>\n",
              "  </thead>\n",
              "  <tbody>\n",
              "    <tr>\n",
              "      <th>Female</th>\n",
              "      <td>235</td>\n",
              "      <td>671</td>\n",
              "      <td>1287</td>\n",
              "      <td>1914</td>\n",
              "      <td>5636</td>\n",
              "      <td>1028</td>\n",
              "      <td>10771</td>\n",
              "    </tr>\n",
              "    <tr>\n",
              "      <th>Male</th>\n",
              "      <td>223</td>\n",
              "      <td>575</td>\n",
              "      <td>1105</td>\n",
              "      <td>1753</td>\n",
              "      <td>12700</td>\n",
              "      <td>5434</td>\n",
              "      <td>21790</td>\n",
              "    </tr>\n",
              "    <tr>\n",
              "      <th>All</th>\n",
              "      <td>458</td>\n",
              "      <td>1246</td>\n",
              "      <td>2392</td>\n",
              "      <td>3667</td>\n",
              "      <td>18336</td>\n",
              "      <td>6462</td>\n",
              "      <td>32561</td>\n",
              "    </tr>\n",
              "  </tbody>\n",
              "</table>\n",
              "</div>"
            ],
            "text/plain": [
              "hours_per_week_categories  0-9  10-19  20-29  30-39  40-49   50+    All\n",
              "sex                                                                    \n",
              " Female                    235    671   1287   1914   5636  1028  10771\n",
              " Male                      223    575   1105   1753  12700  5434  21790\n",
              "All                        458   1246   2392   3667  18336  6462  32561"
            ]
          },
          "metadata": {
            "tags": []
          },
          "execution_count": 70
        }
      ]
    },
    {
      "cell_type": "code",
      "metadata": {
        "id": "02K-UIFdfzow",
        "colab_type": "code",
        "outputId": "8e2c4c23-390a-4a4d-9c35-5f64d7fde1cc",
        "colab": {
          "base_uri": "https://localhost:8080/",
          "height": 51
        }
      },
      "source": [
        "row_sums = contingency_table.iloc[0:2, 6].values\n",
        "col_sums = contingency_table.iloc[2, 0:6].values\n",
        "\n",
        "print(row_sums)\n",
        "print(col_sums)"
      ],
      "execution_count": 0,
      "outputs": [
        {
          "output_type": "stream",
          "text": [
            "[10771 21790]\n",
            "[  458  1246  2392  3667 18336  6462]\n"
          ],
          "name": "stdout"
        }
      ]
    },
    {
      "cell_type": "code",
      "metadata": {
        "id": "qhFY4aHLga3n",
        "colab_type": "code",
        "outputId": "d61d8e5b-78f9-40a6-c24b-c836842ea583",
        "colab": {
          "base_uri": "https://localhost:8080/",
          "height": 34
        }
      },
      "source": [
        "total = contingency_table.loc['All', 'All']\n",
        "total"
      ],
      "execution_count": 0,
      "outputs": [
        {
          "output_type": "execute_result",
          "data": {
            "text/plain": [
              "32561"
            ]
          },
          "metadata": {
            "tags": []
          },
          "execution_count": 72
        }
      ]
    },
    {
      "cell_type": "markdown",
      "metadata": {
        "id": "uyw_hby7-OHF",
        "colab_type": "text"
      },
      "source": [
        "## Expected Value Calculation\n",
        "\\begin{align}\n",
        "expected_{i,j} =\\frac{(row_{i} \\text{total})(column_{j} \\text{total}) }{(\\text{total observations})}  \n",
        "\\end{align}"
      ]
    },
    {
      "cell_type": "code",
      "metadata": {
        "id": "oCWzWvfNgq_W",
        "colab_type": "code",
        "outputId": "6fc022b3-c796-4254-eca2-18a81a7808d8",
        "colab": {
          "base_uri": "https://localhost:8080/",
          "height": 102
        }
      },
      "source": [
        "expected = []\n",
        "for i in range(len(row_sums)):\n",
        "  expected_row = []\n",
        "  for column in col_sums:\n",
        "    expected_val = column*row_sums[i]/total\n",
        "    expected_row.append(expected_val)\n",
        "  expected.append(expected_row)\n",
        "\n",
        "expected = np.array(expected)\n",
        "print(expected.shape)\n",
        "print(expected)"
      ],
      "execution_count": 0,
      "outputs": [
        {
          "output_type": "stream",
          "text": [
            "(2, 6)\n",
            "[[  151.50388502   412.16995793   791.26046497  1213.02346365\n",
            "   6065.44811277  2137.59411566]\n",
            " [  306.49611498   833.83004207  1600.73953503  2453.97653635\n",
            "  12270.55188723  4324.40588434]]\n"
          ],
          "name": "stdout"
        }
      ]
    },
    {
      "cell_type": "code",
      "metadata": {
        "id": "fwUc7rzcf1xK",
        "colab_type": "code",
        "colab": {}
      },
      "source": [
        ""
      ],
      "execution_count": 0,
      "outputs": []
    },
    {
      "cell_type": "markdown",
      "metadata": {
        "id": "R6AWydhG_P4s",
        "colab_type": "text"
      },
      "source": [
        "## Chi-Squared Statistic with Numpy\n",
        "\n",
        "\\begin{align}\n",
        "\\chi^2 = \\sum \\frac{(observed_{i}-expected_{i})^2}{(expected_{i})}\n",
        "\\end{align}\n",
        "\n",
        "For the $observed$ values we will just use a version of our contingency table without the margins as a numpy array. In this way, if our observed values array and our expected values array are the same shape, then we can subtract them and divide them directly which makes the calculations a lot cleaner. No for loops!"
      ]
    },
    {
      "cell_type": "code",
      "metadata": {
        "id": "o7YgaNij_cSo",
        "colab_type": "code",
        "outputId": "e94bee9d-ad93-4055-daff-1c3b9639f5d8",
        "colab": {
          "base_uri": "https://localhost:8080/",
          "height": 68
        }
      },
      "source": [
        "observed = pd.crosstab(df['sex'], df['hours_per_week_categories']).values\n",
        "print(observed.shape)\n",
        "observed"
      ],
      "execution_count": 0,
      "outputs": [
        {
          "output_type": "stream",
          "text": [
            "(2, 6)\n"
          ],
          "name": "stdout"
        },
        {
          "output_type": "execute_result",
          "data": {
            "text/plain": [
              "array([[  235,   671,  1287,  1914,  5636,  1028],\n",
              "       [  223,   575,  1105,  1753, 12700,  5434]])"
            ]
          },
          "metadata": {
            "tags": []
          },
          "execution_count": 76
        }
      ]
    },
    {
      "cell_type": "code",
      "metadata": {
        "id": "duaum_HIiGPq",
        "colab_type": "code",
        "outputId": "78fa2c6b-224a-4137-a437-97c18ec32c13",
        "colab": {
          "base_uri": "https://localhost:8080/",
          "height": 34
        }
      },
      "source": [
        "chi_square = ((observed - expected)**2/(expected)).sum()\n",
        "chi_square"
      ],
      "execution_count": 0,
      "outputs": [
        {
          "output_type": "execute_result",
          "data": {
            "text/plain": [
              "2287.190943926107"
            ]
          },
          "metadata": {
            "tags": []
          },
          "execution_count": 77
        }
      ]
    },
    {
      "cell_type": "markdown",
      "metadata": {
        "id": "7Igz-XHcVbW3",
        "colab_type": "text"
      },
      "source": [
        "## Run a $\\chi^{2}$ Test using Scipy"
      ]
    },
    {
      "cell_type": "code",
      "metadata": {
        "id": "kazgId8L9tYZ",
        "colab_type": "code",
        "outputId": "d84a5559-b889-4be4-9d43-298e490ef031",
        "colab": {
          "base_uri": "https://localhost:8080/",
          "height": 85
        }
      },
      "source": [
        "chi_square, p_value, dof, expected = stats.chi2_contingency(observed)\n",
        "print(chi_square, p_value, dof, expected)"
      ],
      "execution_count": 0,
      "outputs": [
        {
          "output_type": "stream",
          "text": [
            "2287.190943926107 0.0 5 [[  151.50388502   412.16995793   791.26046497  1213.02346365\n",
            "   6065.44811277  2137.59411566]\n",
            " [  306.49611498   833.83004207  1600.73953503  2453.97653635\n",
            "  12270.55188723  4324.40588434]]\n"
          ],
          "name": "stdout"
        }
      ]
    },
    {
      "cell_type": "markdown",
      "metadata": {
        "id": "TRtBEP3rA307",
        "colab_type": "text"
      },
      "source": [
        "Null Hypothesis: Hours worked per week bins is **independent** of sex. \n",
        "\n",
        "Due to a p-value of 0, we REJECT the null hypothesis that hours worked per week and sex are independent, and conclude that there is an association between hours worked per week and sex. "
      ]
    },
    {
      "cell_type": "markdown",
      "metadata": {
        "id": "11OzdxWTM7UR",
        "colab_type": "text"
      },
      "source": [
        "## Assignment - Build a confidence interval\n",
        "\n",
        "A confidence interval refers to a neighborhood around some point estimate, the size of which is determined by the desired p-value. For instance, we might say that 52% of Americans prefer tacos to burritos, with a 95% confidence interval of +/- 5%.\n",
        "\n",
        "52% (0.52) is the point estimate, and +/- 5% (the interval $[0.47, 0.57]$) is the confidence interval. \"95% confidence\" means a p-value $\\leq 1 - 0.95 = 0.05$.\n",
        "\n",
        "In this case, the confidence interval includes $0.5$ - which is the natural null hypothesis (that half of Americans prefer tacos and half burritos, thus there is no clear favorite). So in this case, we could use the confidence interval to report that we've failed to reject the null hypothesis.\n",
        "\n",
        "But providing the full analysis with a confidence interval, including a graphical representation of it, can be a helpful and powerful way to tell your story. Done well, it is also more intuitive to a layperson than simply saying \"fail to reject the null hypothesis\" - it shows that in fact the data does *not* give a single clear result (the point estimate) but a whole range of possibilities.\n",
        "\n",
        "How is a confidence interval built, and how should it be interpreted? It does *not* mean that 95% of the data lies in that interval - instead, the frequentist interpretation is \"if we were to repeat this experiment 100 times, we would expect the average result to lie in this interval ~95 times.\"\n",
        "\n",
        "For a 95% confidence interval and a normal(-ish) distribution, you can simply remember that +/-2 standard deviations contains 95% of the probability mass, and so the 95% confidence interval based on a given sample is centered at the mean (point estimate) and has a range of +/- 2 (or technically 1.96) standard deviations.\n",
        "\n",
        "Different distributions/assumptions (90% confidence, 99% confidence) will require different math, but the overall process and interpretation (with a frequentist approach) will be the same.\n",
        "\n",
        "Your assignment - using the data from the prior module ([congressional voting records](https://archive.ics.uci.edu/ml/datasets/Congressional+Voting+Records)):\n",
        "\n",
        "\n",
        "### Confidence Intervals:\n",
        "1. Generate and numerically represent a confidence interval\n",
        "2. Graphically (with a plot) represent the confidence interval\n",
        "3. Interpret the confidence interval - what does it tell you about the data and its distribution?\n",
        "\n",
        "### Chi-squared tests:\n",
        "4. Take a dataset that we have used in the past in class that has **categorical** variables. Pick two of those categorical variables and run a chi-squared tests on that data\n",
        "  - By hand using Numpy\n",
        "  - In a single line using Scipy\n",
        "\n",
        "Stretch goals:\n",
        "\n",
        "1. Write a summary of your findings, mixing prose and math/code/results. *Note* - yes, this is by definition a political topic. It is challenging but important to keep your writing voice *neutral* and stick to the facts of the data. Data science often involves considering controversial issues, so it's important to be sensitive about them (especially if you want to publish).\n",
        "2. Apply the techniques you learned today to your project data or other data of your choice, and write/discuss your findings here.\n",
        "3. Refactor your code so it is elegant, readable, and can be easily run for all issues."
      ]
    },
    {
      "cell_type": "code",
      "metadata": {
        "id": "Ckcr4A4FM7cs",
        "colab_type": "code",
        "colab": {
          "base_uri": "https://localhost:8080/",
          "height": 204
        },
        "outputId": "d8fb0463-c3b9-415d-d118-f71171c0fac6"
      },
      "source": [
        "!wget https://archive.ics.uci.edu/ml/machine-learning-databases/voting-records/house-votes-84.data"
      ],
      "execution_count": 1,
      "outputs": [
        {
          "output_type": "stream",
          "text": [
            "--2019-08-10 17:09:38--  https://archive.ics.uci.edu/ml/machine-learning-databases/voting-records/house-votes-84.data\n",
            "Resolving archive.ics.uci.edu (archive.ics.uci.edu)... 128.195.10.252\n",
            "Connecting to archive.ics.uci.edu (archive.ics.uci.edu)|128.195.10.252|:443... connected.\n",
            "HTTP request sent, awaiting response... 200 OK\n",
            "Length: 18171 (18K) [application/x-httpd-php]\n",
            "Saving to: ‘house-votes-84.data’\n",
            "\n",
            "house-votes-84.data 100%[===================>]  17.75K  --.-KB/s    in 0.07s   \n",
            "\n",
            "2019-08-10 17:09:39 (267 KB/s) - ‘house-votes-84.data’ saved [18171/18171]\n",
            "\n"
          ],
          "name": "stdout"
        }
      ]
    },
    {
      "cell_type": "code",
      "metadata": {
        "id": "l5eWXdT2KxGy",
        "colab_type": "code",
        "colab": {
          "base_uri": "https://localhost:8080/",
          "height": 221
        },
        "outputId": "068ce826-addc-4c7b-8d82-e0972a2433b0"
      },
      "source": [
        "import pandas as pd\n",
        "# Making a list of missing values\n",
        "missing_values = [\"?\"]\n",
        "df = pd.read_csv('house-votes-84.data', na_values = missing_values, header=None)\n",
        "print(df.shape)\n",
        "df.head()"
      ],
      "execution_count": 2,
      "outputs": [
        {
          "output_type": "stream",
          "text": [
            "(435, 17)\n"
          ],
          "name": "stdout"
        },
        {
          "output_type": "execute_result",
          "data": {
            "text/html": [
              "<div>\n",
              "<style scoped>\n",
              "    .dataframe tbody tr th:only-of-type {\n",
              "        vertical-align: middle;\n",
              "    }\n",
              "\n",
              "    .dataframe tbody tr th {\n",
              "        vertical-align: top;\n",
              "    }\n",
              "\n",
              "    .dataframe thead th {\n",
              "        text-align: right;\n",
              "    }\n",
              "</style>\n",
              "<table border=\"1\" class=\"dataframe\">\n",
              "  <thead>\n",
              "    <tr style=\"text-align: right;\">\n",
              "      <th></th>\n",
              "      <th>0</th>\n",
              "      <th>1</th>\n",
              "      <th>2</th>\n",
              "      <th>3</th>\n",
              "      <th>4</th>\n",
              "      <th>5</th>\n",
              "      <th>6</th>\n",
              "      <th>7</th>\n",
              "      <th>8</th>\n",
              "      <th>9</th>\n",
              "      <th>10</th>\n",
              "      <th>11</th>\n",
              "      <th>12</th>\n",
              "      <th>13</th>\n",
              "      <th>14</th>\n",
              "      <th>15</th>\n",
              "      <th>16</th>\n",
              "    </tr>\n",
              "  </thead>\n",
              "  <tbody>\n",
              "    <tr>\n",
              "      <th>0</th>\n",
              "      <td>republican</td>\n",
              "      <td>n</td>\n",
              "      <td>y</td>\n",
              "      <td>n</td>\n",
              "      <td>y</td>\n",
              "      <td>y</td>\n",
              "      <td>y</td>\n",
              "      <td>n</td>\n",
              "      <td>n</td>\n",
              "      <td>n</td>\n",
              "      <td>y</td>\n",
              "      <td>NaN</td>\n",
              "      <td>y</td>\n",
              "      <td>y</td>\n",
              "      <td>y</td>\n",
              "      <td>n</td>\n",
              "      <td>y</td>\n",
              "    </tr>\n",
              "    <tr>\n",
              "      <th>1</th>\n",
              "      <td>republican</td>\n",
              "      <td>n</td>\n",
              "      <td>y</td>\n",
              "      <td>n</td>\n",
              "      <td>y</td>\n",
              "      <td>y</td>\n",
              "      <td>y</td>\n",
              "      <td>n</td>\n",
              "      <td>n</td>\n",
              "      <td>n</td>\n",
              "      <td>n</td>\n",
              "      <td>n</td>\n",
              "      <td>y</td>\n",
              "      <td>y</td>\n",
              "      <td>y</td>\n",
              "      <td>n</td>\n",
              "      <td>NaN</td>\n",
              "    </tr>\n",
              "    <tr>\n",
              "      <th>2</th>\n",
              "      <td>democrat</td>\n",
              "      <td>NaN</td>\n",
              "      <td>y</td>\n",
              "      <td>y</td>\n",
              "      <td>NaN</td>\n",
              "      <td>y</td>\n",
              "      <td>y</td>\n",
              "      <td>n</td>\n",
              "      <td>n</td>\n",
              "      <td>n</td>\n",
              "      <td>n</td>\n",
              "      <td>y</td>\n",
              "      <td>n</td>\n",
              "      <td>y</td>\n",
              "      <td>y</td>\n",
              "      <td>n</td>\n",
              "      <td>n</td>\n",
              "    </tr>\n",
              "    <tr>\n",
              "      <th>3</th>\n",
              "      <td>democrat</td>\n",
              "      <td>n</td>\n",
              "      <td>y</td>\n",
              "      <td>y</td>\n",
              "      <td>n</td>\n",
              "      <td>NaN</td>\n",
              "      <td>y</td>\n",
              "      <td>n</td>\n",
              "      <td>n</td>\n",
              "      <td>n</td>\n",
              "      <td>n</td>\n",
              "      <td>y</td>\n",
              "      <td>n</td>\n",
              "      <td>y</td>\n",
              "      <td>n</td>\n",
              "      <td>n</td>\n",
              "      <td>y</td>\n",
              "    </tr>\n",
              "    <tr>\n",
              "      <th>4</th>\n",
              "      <td>democrat</td>\n",
              "      <td>y</td>\n",
              "      <td>y</td>\n",
              "      <td>y</td>\n",
              "      <td>n</td>\n",
              "      <td>y</td>\n",
              "      <td>y</td>\n",
              "      <td>n</td>\n",
              "      <td>n</td>\n",
              "      <td>n</td>\n",
              "      <td>n</td>\n",
              "      <td>y</td>\n",
              "      <td>NaN</td>\n",
              "      <td>y</td>\n",
              "      <td>y</td>\n",
              "      <td>y</td>\n",
              "      <td>y</td>\n",
              "    </tr>\n",
              "  </tbody>\n",
              "</table>\n",
              "</div>"
            ],
            "text/plain": [
              "           0    1  2  3    4    5  6  7  8  9  10   11   12 13 14 15   16\n",
              "0  republican    n  y  n    y    y  y  n  n  n  y  NaN    y  y  y  n    y\n",
              "1  republican    n  y  n    y    y  y  n  n  n  n    n    y  y  y  n  NaN\n",
              "2    democrat  NaN  y  y  NaN    y  y  n  n  n  n    y    n  y  y  n    n\n",
              "3    democrat    n  y  y    n  NaN  y  n  n  n  n    y    n  y  n  n    y\n",
              "4    democrat    y  y  y    n    y  y  n  n  n  n    y  NaN  y  y  y    y"
            ]
          },
          "metadata": {
            "tags": []
          },
          "execution_count": 2
        }
      ]
    },
    {
      "cell_type": "code",
      "metadata": {
        "id": "SHVx4YsJK0cN",
        "colab_type": "code",
        "colab": {}
      },
      "source": [
        "columns = ['party', 'handicapped-infants', 'water-project-cost-sharing', 'adoption-of-the-budget-resolution',\n",
        "           'physician-fee-freeze', 'el-salvador-aid', 'religious-groups-in-schools', 'anti-satellite-test-ban',\n",
        "           'aid-to-nicaraguan-contras', 'mx-missile', 'immigration', 'synfuels-corporation-cutback', 'education-spending',\n",
        "           'superfund-right-to-sue', 'crime', 'duty-free-exports', 'export-administration-act-south-africa']"
      ],
      "execution_count": 0,
      "outputs": []
    },
    {
      "cell_type": "code",
      "metadata": {
        "id": "s9_zNgdkK4-o",
        "colab_type": "code",
        "colab": {
          "base_uri": "https://localhost:8080/",
          "height": 238
        },
        "outputId": "aa92f2d6-88de-4254-8e34-bfcbdde81970"
      },
      "source": [
        "df.columns = columns\n",
        "df.head()"
      ],
      "execution_count": 4,
      "outputs": [
        {
          "output_type": "execute_result",
          "data": {
            "text/html": [
              "<div>\n",
              "<style scoped>\n",
              "    .dataframe tbody tr th:only-of-type {\n",
              "        vertical-align: middle;\n",
              "    }\n",
              "\n",
              "    .dataframe tbody tr th {\n",
              "        vertical-align: top;\n",
              "    }\n",
              "\n",
              "    .dataframe thead th {\n",
              "        text-align: right;\n",
              "    }\n",
              "</style>\n",
              "<table border=\"1\" class=\"dataframe\">\n",
              "  <thead>\n",
              "    <tr style=\"text-align: right;\">\n",
              "      <th></th>\n",
              "      <th>party</th>\n",
              "      <th>handicapped-infants</th>\n",
              "      <th>water-project-cost-sharing</th>\n",
              "      <th>adoption-of-the-budget-resolution</th>\n",
              "      <th>physician-fee-freeze</th>\n",
              "      <th>el-salvador-aid</th>\n",
              "      <th>religious-groups-in-schools</th>\n",
              "      <th>anti-satellite-test-ban</th>\n",
              "      <th>aid-to-nicaraguan-contras</th>\n",
              "      <th>mx-missile</th>\n",
              "      <th>immigration</th>\n",
              "      <th>synfuels-corporation-cutback</th>\n",
              "      <th>education-spending</th>\n",
              "      <th>superfund-right-to-sue</th>\n",
              "      <th>crime</th>\n",
              "      <th>duty-free-exports</th>\n",
              "      <th>export-administration-act-south-africa</th>\n",
              "    </tr>\n",
              "  </thead>\n",
              "  <tbody>\n",
              "    <tr>\n",
              "      <th>0</th>\n",
              "      <td>republican</td>\n",
              "      <td>n</td>\n",
              "      <td>y</td>\n",
              "      <td>n</td>\n",
              "      <td>y</td>\n",
              "      <td>y</td>\n",
              "      <td>y</td>\n",
              "      <td>n</td>\n",
              "      <td>n</td>\n",
              "      <td>n</td>\n",
              "      <td>y</td>\n",
              "      <td>NaN</td>\n",
              "      <td>y</td>\n",
              "      <td>y</td>\n",
              "      <td>y</td>\n",
              "      <td>n</td>\n",
              "      <td>y</td>\n",
              "    </tr>\n",
              "    <tr>\n",
              "      <th>1</th>\n",
              "      <td>republican</td>\n",
              "      <td>n</td>\n",
              "      <td>y</td>\n",
              "      <td>n</td>\n",
              "      <td>y</td>\n",
              "      <td>y</td>\n",
              "      <td>y</td>\n",
              "      <td>n</td>\n",
              "      <td>n</td>\n",
              "      <td>n</td>\n",
              "      <td>n</td>\n",
              "      <td>n</td>\n",
              "      <td>y</td>\n",
              "      <td>y</td>\n",
              "      <td>y</td>\n",
              "      <td>n</td>\n",
              "      <td>NaN</td>\n",
              "    </tr>\n",
              "    <tr>\n",
              "      <th>2</th>\n",
              "      <td>democrat</td>\n",
              "      <td>NaN</td>\n",
              "      <td>y</td>\n",
              "      <td>y</td>\n",
              "      <td>NaN</td>\n",
              "      <td>y</td>\n",
              "      <td>y</td>\n",
              "      <td>n</td>\n",
              "      <td>n</td>\n",
              "      <td>n</td>\n",
              "      <td>n</td>\n",
              "      <td>y</td>\n",
              "      <td>n</td>\n",
              "      <td>y</td>\n",
              "      <td>y</td>\n",
              "      <td>n</td>\n",
              "      <td>n</td>\n",
              "    </tr>\n",
              "    <tr>\n",
              "      <th>3</th>\n",
              "      <td>democrat</td>\n",
              "      <td>n</td>\n",
              "      <td>y</td>\n",
              "      <td>y</td>\n",
              "      <td>n</td>\n",
              "      <td>NaN</td>\n",
              "      <td>y</td>\n",
              "      <td>n</td>\n",
              "      <td>n</td>\n",
              "      <td>n</td>\n",
              "      <td>n</td>\n",
              "      <td>y</td>\n",
              "      <td>n</td>\n",
              "      <td>y</td>\n",
              "      <td>n</td>\n",
              "      <td>n</td>\n",
              "      <td>y</td>\n",
              "    </tr>\n",
              "    <tr>\n",
              "      <th>4</th>\n",
              "      <td>democrat</td>\n",
              "      <td>y</td>\n",
              "      <td>y</td>\n",
              "      <td>y</td>\n",
              "      <td>n</td>\n",
              "      <td>y</td>\n",
              "      <td>y</td>\n",
              "      <td>n</td>\n",
              "      <td>n</td>\n",
              "      <td>n</td>\n",
              "      <td>n</td>\n",
              "      <td>y</td>\n",
              "      <td>NaN</td>\n",
              "      <td>y</td>\n",
              "      <td>y</td>\n",
              "      <td>y</td>\n",
              "      <td>y</td>\n",
              "    </tr>\n",
              "  </tbody>\n",
              "</table>\n",
              "</div>"
            ],
            "text/plain": [
              "        party  ... export-administration-act-south-africa\n",
              "0  republican  ...                                      y\n",
              "1  republican  ...                                    NaN\n",
              "2    democrat  ...                                      n\n",
              "3    democrat  ...                                      y\n",
              "4    democrat  ...                                      y\n",
              "\n",
              "[5 rows x 17 columns]"
            ]
          },
          "metadata": {
            "tags": []
          },
          "execution_count": 4
        }
      ]
    },
    {
      "cell_type": "code",
      "metadata": {
        "id": "nBfc4jNnK7VE",
        "colab_type": "code",
        "colab": {
          "base_uri": "https://localhost:8080/",
          "height": 323
        },
        "outputId": "4ea8c03b-9131-4842-8179-4acb2a3d5646"
      },
      "source": [
        "df.isna().sum()"
      ],
      "execution_count": 5,
      "outputs": [
        {
          "output_type": "execute_result",
          "data": {
            "text/plain": [
              "party                                       0\n",
              "handicapped-infants                        12\n",
              "water-project-cost-sharing                 48\n",
              "adoption-of-the-budget-resolution          11\n",
              "physician-fee-freeze                       11\n",
              "el-salvador-aid                            15\n",
              "religious-groups-in-schools                11\n",
              "anti-satellite-test-ban                    14\n",
              "aid-to-nicaraguan-contras                  15\n",
              "mx-missile                                 22\n",
              "immigration                                 7\n",
              "synfuels-corporation-cutback               21\n",
              "education-spending                         31\n",
              "superfund-right-to-sue                     25\n",
              "crime                                      17\n",
              "duty-free-exports                          28\n",
              "export-administration-act-south-africa    104\n",
              "dtype: int64"
            ]
          },
          "metadata": {
            "tags": []
          },
          "execution_count": 5
        }
      ]
    },
    {
      "cell_type": "code",
      "metadata": {
        "id": "gma2CYfyK84U",
        "colab_type": "code",
        "colab": {}
      },
      "source": [
        "import matplotlib.pyplot as plt\n",
        "from scipy.stats import ttest_ind, ttest_ind_from_stats, ttest_rel\n",
        "import pandas as pd\n",
        "import numpy as np\n",
        "\n",
        "def convert_to_int(df):\n",
        "  for feat in df.columns:\n",
        "    df[feat].replace(to_replace=['n', 'y'], value=[0, 1], inplace=True)\n",
        "\n",
        "def clean_data(df):\n",
        "  for feat in df.columns:\n",
        "    if df[feat].dtype != 'object':\n",
        "      df[feat].fillna(df[feat].mode()[0], inplace=True)"
      ],
      "execution_count": 0,
      "outputs": []
    },
    {
      "cell_type": "code",
      "metadata": {
        "id": "MvYTDArcLLsD",
        "colab_type": "code",
        "colab": {
          "base_uri": "https://localhost:8080/",
          "height": 323
        },
        "outputId": "c63290f1-e89e-4c4e-edf8-d2e20997e1ce"
      },
      "source": [
        "convert_to_int(df)\n",
        "clean_data(df)\n",
        "df.isna().sum()"
      ],
      "execution_count": 7,
      "outputs": [
        {
          "output_type": "execute_result",
          "data": {
            "text/plain": [
              "party                                     0\n",
              "handicapped-infants                       0\n",
              "water-project-cost-sharing                0\n",
              "adoption-of-the-budget-resolution         0\n",
              "physician-fee-freeze                      0\n",
              "el-salvador-aid                           0\n",
              "religious-groups-in-schools               0\n",
              "anti-satellite-test-ban                   0\n",
              "aid-to-nicaraguan-contras                 0\n",
              "mx-missile                                0\n",
              "immigration                               0\n",
              "synfuels-corporation-cutback              0\n",
              "education-spending                        0\n",
              "superfund-right-to-sue                    0\n",
              "crime                                     0\n",
              "duty-free-exports                         0\n",
              "export-administration-act-south-africa    0\n",
              "dtype: int64"
            ]
          },
          "metadata": {
            "tags": []
          },
          "execution_count": 7
        }
      ]
    },
    {
      "cell_type": "code",
      "metadata": {
        "id": "RJS-2Lr-LWFl",
        "colab_type": "code",
        "colab": {
          "base_uri": "https://localhost:8080/",
          "height": 255
        },
        "outputId": "2fedc68b-4a21-4f19-af16-3e9ac061ff78"
      },
      "source": [
        "print(df.shape)\n",
        "df.head()"
      ],
      "execution_count": 8,
      "outputs": [
        {
          "output_type": "stream",
          "text": [
            "(435, 17)\n"
          ],
          "name": "stdout"
        },
        {
          "output_type": "execute_result",
          "data": {
            "text/html": [
              "<div>\n",
              "<style scoped>\n",
              "    .dataframe tbody tr th:only-of-type {\n",
              "        vertical-align: middle;\n",
              "    }\n",
              "\n",
              "    .dataframe tbody tr th {\n",
              "        vertical-align: top;\n",
              "    }\n",
              "\n",
              "    .dataframe thead th {\n",
              "        text-align: right;\n",
              "    }\n",
              "</style>\n",
              "<table border=\"1\" class=\"dataframe\">\n",
              "  <thead>\n",
              "    <tr style=\"text-align: right;\">\n",
              "      <th></th>\n",
              "      <th>party</th>\n",
              "      <th>handicapped-infants</th>\n",
              "      <th>water-project-cost-sharing</th>\n",
              "      <th>adoption-of-the-budget-resolution</th>\n",
              "      <th>physician-fee-freeze</th>\n",
              "      <th>el-salvador-aid</th>\n",
              "      <th>religious-groups-in-schools</th>\n",
              "      <th>anti-satellite-test-ban</th>\n",
              "      <th>aid-to-nicaraguan-contras</th>\n",
              "      <th>mx-missile</th>\n",
              "      <th>immigration</th>\n",
              "      <th>synfuels-corporation-cutback</th>\n",
              "      <th>education-spending</th>\n",
              "      <th>superfund-right-to-sue</th>\n",
              "      <th>crime</th>\n",
              "      <th>duty-free-exports</th>\n",
              "      <th>export-administration-act-south-africa</th>\n",
              "    </tr>\n",
              "  </thead>\n",
              "  <tbody>\n",
              "    <tr>\n",
              "      <th>0</th>\n",
              "      <td>republican</td>\n",
              "      <td>0.0</td>\n",
              "      <td>1.0</td>\n",
              "      <td>0.0</td>\n",
              "      <td>1.0</td>\n",
              "      <td>1.0</td>\n",
              "      <td>1.0</td>\n",
              "      <td>0.0</td>\n",
              "      <td>0.0</td>\n",
              "      <td>0.0</td>\n",
              "      <td>1.0</td>\n",
              "      <td>0.0</td>\n",
              "      <td>1.0</td>\n",
              "      <td>1.0</td>\n",
              "      <td>1.0</td>\n",
              "      <td>0.0</td>\n",
              "      <td>1.0</td>\n",
              "    </tr>\n",
              "    <tr>\n",
              "      <th>1</th>\n",
              "      <td>republican</td>\n",
              "      <td>0.0</td>\n",
              "      <td>1.0</td>\n",
              "      <td>0.0</td>\n",
              "      <td>1.0</td>\n",
              "      <td>1.0</td>\n",
              "      <td>1.0</td>\n",
              "      <td>0.0</td>\n",
              "      <td>0.0</td>\n",
              "      <td>0.0</td>\n",
              "      <td>0.0</td>\n",
              "      <td>0.0</td>\n",
              "      <td>1.0</td>\n",
              "      <td>1.0</td>\n",
              "      <td>1.0</td>\n",
              "      <td>0.0</td>\n",
              "      <td>1.0</td>\n",
              "    </tr>\n",
              "    <tr>\n",
              "      <th>2</th>\n",
              "      <td>democrat</td>\n",
              "      <td>0.0</td>\n",
              "      <td>1.0</td>\n",
              "      <td>1.0</td>\n",
              "      <td>0.0</td>\n",
              "      <td>1.0</td>\n",
              "      <td>1.0</td>\n",
              "      <td>0.0</td>\n",
              "      <td>0.0</td>\n",
              "      <td>0.0</td>\n",
              "      <td>0.0</td>\n",
              "      <td>1.0</td>\n",
              "      <td>0.0</td>\n",
              "      <td>1.0</td>\n",
              "      <td>1.0</td>\n",
              "      <td>0.0</td>\n",
              "      <td>0.0</td>\n",
              "    </tr>\n",
              "    <tr>\n",
              "      <th>3</th>\n",
              "      <td>democrat</td>\n",
              "      <td>0.0</td>\n",
              "      <td>1.0</td>\n",
              "      <td>1.0</td>\n",
              "      <td>0.0</td>\n",
              "      <td>1.0</td>\n",
              "      <td>1.0</td>\n",
              "      <td>0.0</td>\n",
              "      <td>0.0</td>\n",
              "      <td>0.0</td>\n",
              "      <td>0.0</td>\n",
              "      <td>1.0</td>\n",
              "      <td>0.0</td>\n",
              "      <td>1.0</td>\n",
              "      <td>0.0</td>\n",
              "      <td>0.0</td>\n",
              "      <td>1.0</td>\n",
              "    </tr>\n",
              "    <tr>\n",
              "      <th>4</th>\n",
              "      <td>democrat</td>\n",
              "      <td>1.0</td>\n",
              "      <td>1.0</td>\n",
              "      <td>1.0</td>\n",
              "      <td>0.0</td>\n",
              "      <td>1.0</td>\n",
              "      <td>1.0</td>\n",
              "      <td>0.0</td>\n",
              "      <td>0.0</td>\n",
              "      <td>0.0</td>\n",
              "      <td>0.0</td>\n",
              "      <td>1.0</td>\n",
              "      <td>0.0</td>\n",
              "      <td>1.0</td>\n",
              "      <td>1.0</td>\n",
              "      <td>1.0</td>\n",
              "      <td>1.0</td>\n",
              "    </tr>\n",
              "  </tbody>\n",
              "</table>\n",
              "</div>"
            ],
            "text/plain": [
              "        party  ...  export-administration-act-south-africa\n",
              "0  republican  ...                                     1.0\n",
              "1  republican  ...                                     1.0\n",
              "2    democrat  ...                                     0.0\n",
              "3    democrat  ...                                     1.0\n",
              "4    democrat  ...                                     1.0\n",
              "\n",
              "[5 rows x 17 columns]"
            ]
          },
          "metadata": {
            "tags": []
          },
          "execution_count": 8
        }
      ]
    },
    {
      "cell_type": "markdown",
      "metadata": {
        "id": "ZNMrMqq0OTwR",
        "colab_type": "text"
      },
      "source": [
        "# Confidence Interval"
      ]
    },
    {
      "cell_type": "code",
      "metadata": {
        "id": "n2qICykjdOyb",
        "colab_type": "code",
        "colab": {
          "base_uri": "https://localhost:8080/",
          "height": 221
        },
        "outputId": "c5c170b1-5cf8-48cc-dfa8-94e379ebeec0"
      },
      "source": [
        "demo_sample_std = df[df['party'] == 'democrat']['handicapped-infants']\n",
        "demo_handicapped_infants = pd.DataFrame(demo_sample_std)\n",
        "demo_handicapped_infants.columns=['demo_handicapped_infants']\n",
        "print(demo_handicapped_infants.shape)\n",
        "demo_handicapped_infants.head()"
      ],
      "execution_count": 21,
      "outputs": [
        {
          "output_type": "stream",
          "text": [
            "(267, 1)\n"
          ],
          "name": "stdout"
        },
        {
          "output_type": "execute_result",
          "data": {
            "text/html": [
              "<div>\n",
              "<style scoped>\n",
              "    .dataframe tbody tr th:only-of-type {\n",
              "        vertical-align: middle;\n",
              "    }\n",
              "\n",
              "    .dataframe tbody tr th {\n",
              "        vertical-align: top;\n",
              "    }\n",
              "\n",
              "    .dataframe thead th {\n",
              "        text-align: right;\n",
              "    }\n",
              "</style>\n",
              "<table border=\"1\" class=\"dataframe\">\n",
              "  <thead>\n",
              "    <tr style=\"text-align: right;\">\n",
              "      <th></th>\n",
              "      <th>demo_handicapped_infants</th>\n",
              "    </tr>\n",
              "  </thead>\n",
              "  <tbody>\n",
              "    <tr>\n",
              "      <th>2</th>\n",
              "      <td>0.0</td>\n",
              "    </tr>\n",
              "    <tr>\n",
              "      <th>3</th>\n",
              "      <td>0.0</td>\n",
              "    </tr>\n",
              "    <tr>\n",
              "      <th>4</th>\n",
              "      <td>1.0</td>\n",
              "    </tr>\n",
              "    <tr>\n",
              "      <th>5</th>\n",
              "      <td>0.0</td>\n",
              "    </tr>\n",
              "    <tr>\n",
              "      <th>6</th>\n",
              "      <td>0.0</td>\n",
              "    </tr>\n",
              "  </tbody>\n",
              "</table>\n",
              "</div>"
            ],
            "text/plain": [
              "   demo_handicapped_infants\n",
              "2                       0.0\n",
              "3                       0.0\n",
              "4                       1.0\n",
              "5                       0.0\n",
              "6                       0.0"
            ]
          },
          "metadata": {
            "tags": []
          },
          "execution_count": 21
        }
      ]
    },
    {
      "cell_type": "code",
      "metadata": {
        "id": "hcnTLuOqPEXk",
        "colab_type": "code",
        "colab": {
          "base_uri": "https://localhost:8080/",
          "height": 51
        },
        "outputId": "b1daf3c9-f569-4533-d807-71aff8584639"
      },
      "source": [
        "sample_std = np.std(demo_handicapped_infants['demo_handicapped_infants'])\n",
        "sample_size = len(demo_handicapped_infants)\n",
        "print(sample_std)\n",
        "print(sample_size)"
      ],
      "execution_count": 30,
      "outputs": [
        {
          "output_type": "stream",
          "text": [
            "0.492847465156435\n",
            "267\n"
          ],
          "name": "stdout"
        }
      ]
    },
    {
      "cell_type": "code",
      "metadata": {
        "id": "ZUaBcUL4O4Ua",
        "colab_type": "code",
        "colab": {
          "base_uri": "https://localhost:8080/",
          "height": 34
        },
        "outputId": "5fa9935d-4c30-4be9-ad8e-8aea1f5b38dc"
      },
      "source": [
        "standard_error = sample_std/np.sqrt(sample_size)\n",
        "print(standard_error)"
      ],
      "execution_count": 31,
      "outputs": [
        {
          "output_type": "stream",
          "text": [
            "0.030161775044324438\n"
          ],
          "name": "stdout"
        }
      ]
    },
    {
      "cell_type": "code",
      "metadata": {
        "id": "fpGadu_wOls_",
        "colab_type": "code",
        "colab": {
          "base_uri": "https://localhost:8080/",
          "height": 34
        },
        "outputId": "58054638-0d93-4f9c-98d8-dc4982a271fe"
      },
      "source": [
        "import scipy.stats as stats\n",
        "t = stats.t.ppf(0.975, sample_size-1)\n",
        "t"
      ],
      "execution_count": 33,
      "outputs": [
        {
          "output_type": "execute_result",
          "data": {
            "text/plain": [
              "1.9689223241409017"
            ]
          },
          "metadata": {
            "tags": []
          },
          "execution_count": 33
        }
      ]
    },
    {
      "cell_type": "code",
      "metadata": {
        "id": "yhNaSiWbObyd",
        "colab_type": "code",
        "colab": {}
      },
      "source": [
        "sample_mean = demo_handicapped_infants['demo_handicapped_infants'].mean()\n",
        "confidence_interval = (sample_mean - t* standard_error, sample_mean + t* standard_error)\n",
        "margin_of_error = t* standard_error"
      ],
      "execution_count": 0,
      "outputs": []
    },
    {
      "cell_type": "code",
      "metadata": {
        "id": "y6AC_xDnLYn1",
        "colab_type": "code",
        "colab": {
          "base_uri": "https://localhost:8080/",
          "height": 269
        },
        "outputId": "97a07376-e335-4af5-bb5b-5a560b88fd33"
      },
      "source": [
        "import seaborn as sns\n",
        "\n",
        "sns.kdeplot(demo_handicapped_infants['demo_handicapped_infants']);\n",
        "plt.axvline(x=sample_mean, color='k')\n",
        "plt.axvline(x=confidence_interval[0], color='r')\n",
        "plt.axvline(x=confidence_interval[1], color='r');"
      ],
      "execution_count": 35,
      "outputs": [
        {
          "output_type": "display_data",
          "data": {
            "image/png": "[encoded data removed]",
            "text/plain": [
              "<Figure size 432x288 with 1 Axes>"
            ]
          },
          "metadata": {
            "tags": []
          }
        }
      ]
    },
    {
      "cell_type": "markdown",
      "metadata": {
        "id": "T3PBtKZajoA1",
        "colab_type": "text"
      },
      "source": [
        "##Interpretation\n",
        "\n",
        "How can we interpret this visualization? Well, this means that there was a pretty even split in how the Democrats voted on this issue. We can say with 95% confidence that the average democratic vote was .56 (with 0 being no and 1 being yes) or slightly in favor of a yes vote on this issue. "
      ]
    },
    {
      "cell_type": "markdown",
      "metadata": {
        "id": "KE9eS5-7j4lT",
        "colab_type": "text"
      },
      "source": [
        "# Chi Squared Tests"
      ]
    },
    {
      "cell_type": "markdown",
      "metadata": {
        "id": "kIds2wkh6ONX",
        "colab_type": "text"
      },
      "source": [
        "Chi-squared tests:\n",
        "Take a dataset that we have used in the past in class that has categorical variables. Pick two of those categorical variables and run a chi-squared tests on that data\n",
        "By hand using Numpy\n",
        "In a single line using Scipy"
      ]
    },
    {
      "cell_type": "markdown",
      "metadata": {
        "colab_type": "text",
        "id": "9WEwVdxeBH6J"
      },
      "source": [
        "## Chi-Squared Statistic with Numpy\n",
        "\n",
        "\\begin{align}\n",
        "\\chi^2 = \\sum \\frac{(observed_{i}-expected_{i})^2}{(expected_{i})}\n",
        "\\end{align}\n",
        "\n",
        "For the $observed$ values we will just use a version of our contingency table without the margins as a numpy array. In this way, if our observed values array and our expected values array are the same shape, then we can subtract them and divide them directly which makes the calculations a lot cleaner. No for loops!"
      ]
    },
    {
      "cell_type": "code",
      "metadata": {
        "id": "D1lt8Jnyj0DA",
        "colab_type": "code",
        "colab": {
          "base_uri": "https://localhost:8080/",
          "height": 292
        },
        "outputId": "086793b1-ebc4-4154-ec21-6505947ce3ff"
      },
      "source": [
        "import pandas as pd\n",
        "entities = pd.read_csv('https://raw.githubusercontent.com/open-numbers/ddf--gapminder--systema_globalis/master/ddf--entities--geo--country.csv')\n",
        "print(entities.shape)\n",
        "entities.head()"
      ],
      "execution_count": 2,
      "outputs": [
        {
          "output_type": "stream",
          "text": [
            "(273, 33)\n"
          ],
          "name": "stdout"
        },
        {
          "output_type": "execute_result",
          "data": {
            "text/html": [
              "<div>\n",
              "<style scoped>\n",
              "    .dataframe tbody tr th:only-of-type {\n",
              "        vertical-align: middle;\n",
              "    }\n",
              "\n",
              "    .dataframe tbody tr th {\n",
              "        vertical-align: top;\n",
              "    }\n",
              "\n",
              "    .dataframe thead th {\n",
              "        text-align: right;\n",
              "    }\n",
              "</style>\n",
              "<table border=\"1\" class=\"dataframe\">\n",
              "  <thead>\n",
              "    <tr style=\"text-align: right;\">\n",
              "      <th></th>\n",
              "      <th>country</th>\n",
              "      <th>alt_5</th>\n",
              "      <th>alternative_1</th>\n",
              "      <th>alternative_2</th>\n",
              "      <th>alternative_3</th>\n",
              "      <th>alternative_4_cdiac</th>\n",
              "      <th>arb1</th>\n",
              "      <th>arb2</th>\n",
              "      <th>arb3</th>\n",
              "      <th>arb4</th>\n",
              "      <th>arb5</th>\n",
              "      <th>arb6</th>\n",
              "      <th>g77_and_oecd_countries</th>\n",
              "      <th>gapminder_list</th>\n",
              "      <th>god_id</th>\n",
              "      <th>gwid</th>\n",
              "      <th>income_groups</th>\n",
              "      <th>is--country</th>\n",
              "      <th>iso3166_1_alpha2</th>\n",
              "      <th>iso3166_1_alpha3</th>\n",
              "      <th>iso3166_1_numeric</th>\n",
              "      <th>iso3166_2</th>\n",
              "      <th>landlocked</th>\n",
              "      <th>latitude</th>\n",
              "      <th>longitude</th>\n",
              "      <th>main_religion_2008</th>\n",
              "      <th>name</th>\n",
              "      <th>pandg</th>\n",
              "      <th>un_state</th>\n",
              "      <th>unicode_region_subtag</th>\n",
              "      <th>upper_case_name</th>\n",
              "      <th>world_4region</th>\n",
              "      <th>world_6region</th>\n",
              "    </tr>\n",
              "  </thead>\n",
              "  <tbody>\n",
              "    <tr>\n",
              "      <th>0</th>\n",
              "      <td>abkh</td>\n",
              "      <td>NaN</td>\n",
              "      <td>NaN</td>\n",
              "      <td>NaN</td>\n",
              "      <td>NaN</td>\n",
              "      <td>NaN</td>\n",
              "      <td>NaN</td>\n",
              "      <td>NaN</td>\n",
              "      <td>NaN</td>\n",
              "      <td>NaN</td>\n",
              "      <td>NaN</td>\n",
              "      <td>NaN</td>\n",
              "      <td>others</td>\n",
              "      <td>Abkhazia</td>\n",
              "      <td>GE-AB</td>\n",
              "      <td>i0</td>\n",
              "      <td>NaN</td>\n",
              "      <td>True</td>\n",
              "      <td>NaN</td>\n",
              "      <td>NaN</td>\n",
              "      <td>NaN</td>\n",
              "      <td>NaN</td>\n",
              "      <td>NaN</td>\n",
              "      <td>NaN</td>\n",
              "      <td>NaN</td>\n",
              "      <td>NaN</td>\n",
              "      <td>Abkhazia</td>\n",
              "      <td>NaN</td>\n",
              "      <td>False</td>\n",
              "      <td>NaN</td>\n",
              "      <td>NaN</td>\n",
              "      <td>europe</td>\n",
              "      <td>europe_central_asia</td>\n",
              "    </tr>\n",
              "    <tr>\n",
              "      <th>1</th>\n",
              "      <td>abw</td>\n",
              "      <td>NaN</td>\n",
              "      <td>NaN</td>\n",
              "      <td>NaN</td>\n",
              "      <td>NaN</td>\n",
              "      <td>Aruba</td>\n",
              "      <td>NaN</td>\n",
              "      <td>NaN</td>\n",
              "      <td>NaN</td>\n",
              "      <td>NaN</td>\n",
              "      <td>NaN</td>\n",
              "      <td>NaN</td>\n",
              "      <td>others</td>\n",
              "      <td>Aruba</td>\n",
              "      <td>AW</td>\n",
              "      <td>i12</td>\n",
              "      <td>high_income</td>\n",
              "      <td>True</td>\n",
              "      <td>AW</td>\n",
              "      <td>ABW</td>\n",
              "      <td>533.0</td>\n",
              "      <td>NaN</td>\n",
              "      <td>coastline</td>\n",
              "      <td>12.50000</td>\n",
              "      <td>-69.96667</td>\n",
              "      <td>christian</td>\n",
              "      <td>Aruba</td>\n",
              "      <td>NaN</td>\n",
              "      <td>False</td>\n",
              "      <td>AW</td>\n",
              "      <td>ARUBA</td>\n",
              "      <td>americas</td>\n",
              "      <td>america</td>\n",
              "    </tr>\n",
              "    <tr>\n",
              "      <th>2</th>\n",
              "      <td>afg</td>\n",
              "      <td>NaN</td>\n",
              "      <td>Islamic Republic of Afghanistan</td>\n",
              "      <td>NaN</td>\n",
              "      <td>NaN</td>\n",
              "      <td>Afghanistan</td>\n",
              "      <td>NaN</td>\n",
              "      <td>NaN</td>\n",
              "      <td>NaN</td>\n",
              "      <td>NaN</td>\n",
              "      <td>NaN</td>\n",
              "      <td>NaN</td>\n",
              "      <td>g77</td>\n",
              "      <td>Afghanistan</td>\n",
              "      <td>AF</td>\n",
              "      <td>i1</td>\n",
              "      <td>low_income</td>\n",
              "      <td>True</td>\n",
              "      <td>AF</td>\n",
              "      <td>AFG</td>\n",
              "      <td>4.0</td>\n",
              "      <td>NaN</td>\n",
              "      <td>landlocked</td>\n",
              "      <td>33.00000</td>\n",
              "      <td>66.00000</td>\n",
              "      <td>muslim</td>\n",
              "      <td>Afghanistan</td>\n",
              "      <td>AFGHANISTAN</td>\n",
              "      <td>True</td>\n",
              "      <td>AF</td>\n",
              "      <td>AFGHANISTAN</td>\n",
              "      <td>asia</td>\n",
              "      <td>south_asia</td>\n",
              "    </tr>\n",
              "    <tr>\n",
              "      <th>3</th>\n",
              "      <td>ago</td>\n",
              "      <td>NaN</td>\n",
              "      <td>NaN</td>\n",
              "      <td>NaN</td>\n",
              "      <td>NaN</td>\n",
              "      <td>Angola</td>\n",
              "      <td>NaN</td>\n",
              "      <td>NaN</td>\n",
              "      <td>NaN</td>\n",
              "      <td>NaN</td>\n",
              "      <td>NaN</td>\n",
              "      <td>NaN</td>\n",
              "      <td>g77</td>\n",
              "      <td>Angola</td>\n",
              "      <td>AO</td>\n",
              "      <td>i7</td>\n",
              "      <td>upper_middle_income</td>\n",
              "      <td>True</td>\n",
              "      <td>AO</td>\n",
              "      <td>AGO</td>\n",
              "      <td>24.0</td>\n",
              "      <td>NaN</td>\n",
              "      <td>coastline</td>\n",
              "      <td>-12.50000</td>\n",
              "      <td>18.50000</td>\n",
              "      <td>christian</td>\n",
              "      <td>Angola</td>\n",
              "      <td>ANGOLA</td>\n",
              "      <td>True</td>\n",
              "      <td>AO</td>\n",
              "      <td>ANGOLA</td>\n",
              "      <td>africa</td>\n",
              "      <td>sub_saharan_africa</td>\n",
              "    </tr>\n",
              "    <tr>\n",
              "      <th>4</th>\n",
              "      <td>aia</td>\n",
              "      <td>NaN</td>\n",
              "      <td>NaN</td>\n",
              "      <td>NaN</td>\n",
              "      <td>NaN</td>\n",
              "      <td>NaN</td>\n",
              "      <td>NaN</td>\n",
              "      <td>NaN</td>\n",
              "      <td>NaN</td>\n",
              "      <td>NaN</td>\n",
              "      <td>NaN</td>\n",
              "      <td>NaN</td>\n",
              "      <td>others</td>\n",
              "      <td>Anguilla</td>\n",
              "      <td>AI</td>\n",
              "      <td>i8</td>\n",
              "      <td>NaN</td>\n",
              "      <td>True</td>\n",
              "      <td>AI</td>\n",
              "      <td>AIA</td>\n",
              "      <td>660.0</td>\n",
              "      <td>NaN</td>\n",
              "      <td>coastline</td>\n",
              "      <td>18.21667</td>\n",
              "      <td>-63.05000</td>\n",
              "      <td>christian</td>\n",
              "      <td>Anguilla</td>\n",
              "      <td>NaN</td>\n",
              "      <td>False</td>\n",
              "      <td>AI</td>\n",
              "      <td>ANGUILLA</td>\n",
              "      <td>americas</td>\n",
              "      <td>america</td>\n",
              "    </tr>\n",
              "  </tbody>\n",
              "</table>\n",
              "</div>"
            ],
            "text/plain": [
              "  country alt_5  ... world_4region        world_6region\n",
              "0    abkh   NaN  ...        europe  europe_central_asia\n",
              "1     abw   NaN  ...      americas              america\n",
              "2     afg   NaN  ...          asia           south_asia\n",
              "3     ago   NaN  ...        africa   sub_saharan_africa\n",
              "4     aia   NaN  ...      americas              america\n",
              "\n",
              "[5 rows x 33 columns]"
            ]
          },
          "metadata": {
            "tags": []
          },
          "execution_count": 2
        }
      ]
    },
    {
      "cell_type": "code",
      "metadata": {
        "id": "JDf1O32K7ER2",
        "colab_type": "code",
        "colab": {
          "base_uri": "https://localhost:8080/",
          "height": 34
        },
        "outputId": "5179fd49-40b7-43cb-c5a8-a8aecd2a805b"
      },
      "source": [
        "# lets take a look at income_groups and world_6region\n",
        "\n",
        "entities['income_groups'].isna().sum()"
      ],
      "execution_count": 3,
      "outputs": [
        {
          "output_type": "execute_result",
          "data": {
            "text/plain": [
              "59"
            ]
          },
          "metadata": {
            "tags": []
          },
          "execution_count": 3
        }
      ]
    },
    {
      "cell_type": "code",
      "metadata": {
        "id": "M_TD5E2W8Kr2",
        "colab_type": "code",
        "colab": {}
      },
      "source": [
        "entities['income_groups'].dropna(inplace=True)"
      ],
      "execution_count": 0,
      "outputs": []
    },
    {
      "cell_type": "code",
      "metadata": {
        "id": "2cFeFHG-8TI3",
        "colab_type": "code",
        "colab": {
          "base_uri": "https://localhost:8080/",
          "height": 34
        },
        "outputId": "3e39d1f3-5754-4285-ef79-420b0388fb4d"
      },
      "source": [
        "entities['income_groups'].isna().sum()"
      ],
      "execution_count": 7,
      "outputs": [
        {
          "output_type": "execute_result",
          "data": {
            "text/plain": [
              "0"
            ]
          },
          "metadata": {
            "tags": []
          },
          "execution_count": 7
        }
      ]
    },
    {
      "cell_type": "code",
      "metadata": {
        "id": "osCMAYSx8W7p",
        "colab_type": "code",
        "colab": {
          "base_uri": "https://localhost:8080/",
          "height": 34
        },
        "outputId": "77521830-b300-43a6-999c-d6a0c792ff18"
      },
      "source": [
        "entities['world_6region'].isna().sum()"
      ],
      "execution_count": 8,
      "outputs": [
        {
          "output_type": "execute_result",
          "data": {
            "text/plain": [
              "13"
            ]
          },
          "metadata": {
            "tags": []
          },
          "execution_count": 8
        }
      ]
    },
    {
      "cell_type": "code",
      "metadata": {
        "id": "K62z-Itr8ifd",
        "colab_type": "code",
        "colab": {}
      },
      "source": [
        "entities['world_6region'].dropna(inplace=True)"
      ],
      "execution_count": 0,
      "outputs": []
    },
    {
      "cell_type": "code",
      "metadata": {
        "id": "s65_A1k48lVQ",
        "colab_type": "code",
        "colab": {
          "base_uri": "https://localhost:8080/",
          "height": 34
        },
        "outputId": "6d6f1ddf-931d-49ca-e22d-7c5b09488f83"
      },
      "source": [
        "entities['world_6region'].isna().sum()"
      ],
      "execution_count": 10,
      "outputs": [
        {
          "output_type": "execute_result",
          "data": {
            "text/plain": [
              "0"
            ]
          },
          "metadata": {
            "tags": []
          },
          "execution_count": 10
        }
      ]
    },
    {
      "cell_type": "code",
      "metadata": {
        "id": "h231B36C8mfr",
        "colab_type": "code",
        "colab": {
          "base_uri": "https://localhost:8080/",
          "height": 369
        },
        "outputId": "ba187868-569f-4e0b-956f-5e9cec51d155"
      },
      "source": [
        "entities['income_groups'].value_counts().plot(kind='bar');"
      ],
      "execution_count": 19,
      "outputs": [
        {
          "output_type": "display_data",
          "data": {
            "image/png": "[encoded data removed]",
            "text/plain": [
              "<Figure size 432x288 with 1 Axes>"
            ]
          },
          "metadata": {
            "tags": []
          }
        }
      ]
    },
    {
      "cell_type": "code",
      "metadata": {
        "id": "0i20iZ4u_MKb",
        "colab_type": "code",
        "colab": {
          "base_uri": "https://localhost:8080/",
          "height": 385
        },
        "outputId": "17aa1022-3af4-4d4c-f3e4-5cb64a9d9ca4"
      },
      "source": [
        "entities['world_6region'].value_counts().plot(kind='bar');"
      ],
      "execution_count": 20,
      "outputs": [
        {
          "output_type": "display_data",
          "data": {
            "image/png": "[encoded data removed]",
            "text/plain": [
              "<Figure size 432x288 with 1 Axes>"
            ]
          },
          "metadata": {
            "tags": []
          }
        }
      ]
    },
    {
      "cell_type": "code",
      "metadata": {
        "id": "TgOPN-OL_LdW",
        "colab_type": "code",
        "colab": {
          "base_uri": "https://localhost:8080/",
          "height": 235
        },
        "outputId": "56263347-2e6f-4848-bc4d-57e334d1bdd4"
      },
      "source": [
        "# Margins here is the subtotal for each row. \n",
        "contingency_table = pd.crosstab(entities['income_groups'], entities['world_6region'], margins=True)\n",
        "contingency_table"
      ],
      "execution_count": 21,
      "outputs": [
        {
          "output_type": "execute_result",
          "data": {
            "text/html": [
              "<div>\n",
              "<style scoped>\n",
              "    .dataframe tbody tr th:only-of-type {\n",
              "        vertical-align: middle;\n",
              "    }\n",
              "\n",
              "    .dataframe tbody tr th {\n",
              "        vertical-align: top;\n",
              "    }\n",
              "\n",
              "    .dataframe thead th {\n",
              "        text-align: right;\n",
              "    }\n",
              "</style>\n",
              "<table border=\"1\" class=\"dataframe\">\n",
              "  <thead>\n",
              "    <tr style=\"text-align: right;\">\n",
              "      <th>world_6region</th>\n",
              "      <th>america</th>\n",
              "      <th>east_asia_pacific</th>\n",
              "      <th>europe_central_asia</th>\n",
              "      <th>middle_east_north_africa</th>\n",
              "      <th>south_asia</th>\n",
              "      <th>sub_saharan_africa</th>\n",
              "      <th>All</th>\n",
              "    </tr>\n",
              "    <tr>\n",
              "      <th>income_groups</th>\n",
              "      <th></th>\n",
              "      <th></th>\n",
              "      <th></th>\n",
              "      <th></th>\n",
              "      <th></th>\n",
              "      <th></th>\n",
              "      <th></th>\n",
              "    </tr>\n",
              "  </thead>\n",
              "  <tbody>\n",
              "    <tr>\n",
              "      <th>high_income</th>\n",
              "      <td>17</td>\n",
              "      <td>12</td>\n",
              "      <td>37</td>\n",
              "      <td>7</td>\n",
              "      <td>0</td>\n",
              "      <td>1</td>\n",
              "      <td>74</td>\n",
              "    </tr>\n",
              "    <tr>\n",
              "      <th>low_income</th>\n",
              "      <td>1</td>\n",
              "      <td>3</td>\n",
              "      <td>2</td>\n",
              "      <td>0</td>\n",
              "      <td>3</td>\n",
              "      <td>27</td>\n",
              "      <td>36</td>\n",
              "    </tr>\n",
              "    <tr>\n",
              "      <th>lower_middle_income</th>\n",
              "      <td>7</td>\n",
              "      <td>12</td>\n",
              "      <td>6</td>\n",
              "      <td>6</td>\n",
              "      <td>4</td>\n",
              "      <td>13</td>\n",
              "      <td>48</td>\n",
              "    </tr>\n",
              "    <tr>\n",
              "      <th>upper_middle_income</th>\n",
              "      <td>18</td>\n",
              "      <td>9</td>\n",
              "      <td>13</td>\n",
              "      <td>7</td>\n",
              "      <td>1</td>\n",
              "      <td>7</td>\n",
              "      <td>55</td>\n",
              "    </tr>\n",
              "    <tr>\n",
              "      <th>All</th>\n",
              "      <td>43</td>\n",
              "      <td>36</td>\n",
              "      <td>58</td>\n",
              "      <td>20</td>\n",
              "      <td>8</td>\n",
              "      <td>48</td>\n",
              "      <td>213</td>\n",
              "    </tr>\n",
              "  </tbody>\n",
              "</table>\n",
              "</div>"
            ],
            "text/plain": [
              "world_6region        america  east_asia_pacific  ...  sub_saharan_africa  All\n",
              "income_groups                                    ...                         \n",
              "high_income               17                 12  ...                   1   74\n",
              "low_income                 1                  3  ...                  27   36\n",
              "lower_middle_income        7                 12  ...                  13   48\n",
              "upper_middle_income       18                  9  ...                   7   55\n",
              "All                       43                 36  ...                  48  213\n",
              "\n",
              "[5 rows x 7 columns]"
            ]
          },
          "metadata": {
            "tags": []
          },
          "execution_count": 21
        }
      ]
    },
    {
      "cell_type": "code",
      "metadata": {
        "id": "GQf_JlzT-p5V",
        "colab_type": "code",
        "colab": {
          "base_uri": "https://localhost:8080/",
          "height": 51
        },
        "outputId": "06a9275e-4f51-4170-c132-2d40a00b06b0"
      },
      "source": [
        "row_sums = contingency_table.iloc[0:4, 6].values\n",
        "col_sums = contingency_table.iloc[4, 0:6].values\n",
        "\n",
        "print(row_sums)\n",
        "print(col_sums)"
      ],
      "execution_count": 31,
      "outputs": [
        {
          "output_type": "stream",
          "text": [
            "[74 36 48 55]\n",
            "[43 36 58 20  8 48]\n"
          ],
          "name": "stdout"
        }
      ]
    },
    {
      "cell_type": "code",
      "metadata": {
        "id": "jzuudiqa-VmJ",
        "colab_type": "code",
        "colab": {
          "base_uri": "https://localhost:8080/",
          "height": 34
        },
        "outputId": "1a5c54ad-9aa9-4a38-ad23-19d47d3ebd03"
      },
      "source": [
        "total = contingency_table.loc['All', 'All']\n",
        "total"
      ],
      "execution_count": 22,
      "outputs": [
        {
          "output_type": "execute_result",
          "data": {
            "text/plain": [
              "213"
            ]
          },
          "metadata": {
            "tags": []
          },
          "execution_count": 22
        }
      ]
    },
    {
      "cell_type": "code",
      "metadata": {
        "id": "CadBNH6sAFdx",
        "colab_type": "code",
        "colab": {
          "base_uri": "https://localhost:8080/",
          "height": 102
        },
        "outputId": "2bd8cbd1-c886-422e-9b26-c0d4faab48b8"
      },
      "source": [
        "import numpy as np\n",
        "expected = []\n",
        "for i in range(len(row_sums)):\n",
        "  expected_row = []\n",
        "  for column in col_sums:\n",
        "    expected_val = column*row_sums[i]/total\n",
        "    expected_row.append(expected_val)\n",
        "  expected.append(expected_row)\n",
        "\n",
        "expected = np.array(expected)\n",
        "print(expected.shape)\n",
        "print(expected)"
      ],
      "execution_count": 33,
      "outputs": [
        {
          "output_type": "stream",
          "text": [
            "(4, 6)\n",
            "[[14.93896714 12.50704225 20.15023474  6.94835681  2.77934272 16.67605634]\n",
            " [ 7.26760563  6.08450704  9.8028169   3.38028169  1.35211268  8.11267606]\n",
            " [ 9.69014085  8.11267606 13.07042254  4.50704225  1.8028169  10.81690141]\n",
            " [11.10328638  9.29577465 14.97652582  5.16431925  2.0657277  12.3943662 ]]\n"
          ],
          "name": "stdout"
        }
      ]
    },
    {
      "cell_type": "code",
      "metadata": {
        "id": "c3yMT3y9-Ryp",
        "colab_type": "code",
        "colab": {
          "base_uri": "https://localhost:8080/",
          "height": 102
        },
        "outputId": "9acf7ae4-0e45-4419-eb61-6b75ffbc0494"
      },
      "source": [
        "observed = pd.crosstab(entities['income_groups'], entities['world_6region']).values\n",
        "print(observed.shape)\n",
        "observed"
      ],
      "execution_count": 35,
      "outputs": [
        {
          "output_type": "stream",
          "text": [
            "(4, 6)\n"
          ],
          "name": "stdout"
        },
        {
          "output_type": "execute_result",
          "data": {
            "text/plain": [
              "array([[17, 12, 37,  7,  0,  1],\n",
              "       [ 1,  3,  2,  0,  3, 27],\n",
              "       [ 7, 12,  6,  6,  4, 13],\n",
              "       [18,  9, 13,  7,  1,  7]])"
            ]
          },
          "metadata": {
            "tags": []
          },
          "execution_count": 35
        }
      ]
    },
    {
      "cell_type": "code",
      "metadata": {
        "id": "3sPmfDNw852P",
        "colab_type": "code",
        "colab": {
          "base_uri": "https://localhost:8080/",
          "height": 34
        },
        "outputId": "58b88eca-23d9-4bc4-f702-8047b660092f"
      },
      "source": [
        "chi_square = ((observed - expected)**2/(expected)).sum()\n",
        "chi_square"
      ],
      "execution_count": 36,
      "outputs": [
        {
          "output_type": "execute_result",
          "data": {
            "text/plain": [
              "112.60236492756655"
            ]
          },
          "metadata": {
            "tags": []
          },
          "execution_count": 36
        }
      ]
    },
    {
      "cell_type": "markdown",
      "metadata": {
        "id": "WahqFifoBYkd",
        "colab_type": "text"
      },
      "source": [
        "## With Scipy"
      ]
    },
    {
      "cell_type": "code",
      "metadata": {
        "id": "shGX2fof83n-",
        "colab_type": "code",
        "colab": {
          "base_uri": "https://localhost:8080/",
          "height": 85
        },
        "outputId": "d4ba738e-76f8-44fb-d2c1-cb1b550de4ad"
      },
      "source": [
        " import scipy.stats as stats\n",
        "chi_square, p_value, dof, expected = stats.chi2_contingency(observed)\n",
        "print(chi_square, p_value, dof, expected)"
      ],
      "execution_count": 38,
      "outputs": [
        {
          "output_type": "stream",
          "text": [
            "112.60236492756655 5.094803393946877e-17 15 [[14.93896714 12.50704225 20.15023474  6.94835681  2.77934272 16.67605634]\n",
            " [ 7.26760563  6.08450704  9.8028169   3.38028169  1.35211268  8.11267606]\n",
            " [ 9.69014085  8.11267606 13.07042254  4.50704225  1.8028169  10.81690141]\n",
            " [11.10328638  9.29577465 14.97652582  5.16431925  2.0657277  12.3943662 ]]\n"
          ],
          "name": "stdout"
        }
      ]
    },
    {
      "cell_type": "markdown",
      "metadata": {
        "id": "nyJ3ySr7R2k9",
        "colab_type": "text"
      },
      "source": [
        "## Resources\n",
        "\n",
        "- [Interactive visualize the Chi-Squared test](https://homepage.divms.uiowa.edu/~mbognar/applets/chisq.html)\n",
        "- [Calculation of Chi-Squared test statistic](https://en.wikipedia.org/wiki/Pearson%27s_chi-squared_test)\n",
        "- [Visualization of a confidence interval generated by R code](https://commons.wikimedia.org/wiki/File:Confidence-interval.svg)\n",
        "- [Expected value of a squared standard normal](https://math.stackexchange.com/questions/264061/expected-value-calculation-for-squared-normal-distribution) (it's 1 - which is why the expected value of a Chi-Squared with $n$ degrees of freedom is $n$, as it's the sum of $n$ squared standard normals)"
      ]
    }
  ]
}