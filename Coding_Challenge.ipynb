{
  "nbformat": 4,
  "nbformat_minor": 0,
  "metadata": {
    "colab": {
      "name": "Coding Challenge.ipynb",
      "version": "0.3.2",
      "provenance": [],
      "collapsed_sections": [],
      "include_colab_link": true
    },
    "kernelspec": {
      "name": "python3",
      "display_name": "Python 3"
    }
  },
  "cells": [
    {
      "cell_type": "markdown",
      "metadata": {
        "id": "view-in-github",
        "colab_type": "text"
      },
      "source": [
        "<a href=\"https://colab.research.google.com/github/ngriggs/DS-Unit-1-Sprint-3-Statistical-Tests-and-Experiments/blob/master/Coding_Challenge.ipynb\" target=\"_parent\"><img src=\"https://colab.research.google.com/assets/colab-badge.svg\" alt=\"Open In Colab\"/></a>"
      ]
    },
    {
      "cell_type": "markdown",
      "metadata": {
        "id": "dFR07HSo5h_t",
        "colab_type": "text"
      },
      "source": [
        "Two Number Sum:\n",
        "\n",
        "Write a function that takes in a non-empty array of distinct integers and an integer representing a target sum. If any two numbers in the input array sum up to the target sum, the function should return them in an array, in sorted order. If no two numbers sum up to the target sum, the function should return an empty array. **Assume that there will be at most one pair of numbers summing up to the target sum.**\n",
        "\n",
        "Sample input: [3,5,-4,8,11,1,-1,6], 10\n",
        "Sample output:\n",
        "[-1,11]\n"
      ]
    },
    {
      "cell_type": "code",
      "metadata": {
        "id": "pL3Pz5u07Il_",
        "colab_type": "code",
        "colab": {}
      },
      "source": [
        "def func(ints, summation):\n",
        "  final = []\n",
        "  for i in ints:\n",
        "    for j in ints:\n",
        "      if ints.index(j) != ints.index(i) and i + j == summation:\n",
        "        final.append(i)\n",
        "        final.append(j)\n",
        "        return sorted(final)\n",
        "  return final\n"
      ],
      "execution_count": 0,
      "outputs": []
    },
    {
      "cell_type": "code",
      "metadata": {
        "id": "fXHAFMjn9Ap6",
        "colab_type": "code",
        "colab": {
          "base_uri": "https://localhost:8080/",
          "height": 34
        },
        "outputId": "0d701230-cb98-41e2-c213-b35da389d838"
      },
      "source": [
        "func([3,5,-4,8,11,1,-1,6], 10)"
      ],
      "execution_count": 29,
      "outputs": [
        {
          "output_type": "execute_result",
          "data": {
            "text/plain": [
              "[-1, 11]"
            ]
          },
          "metadata": {
            "tags": []
          },
          "execution_count": 29
        }
      ]
    }
  ]
}