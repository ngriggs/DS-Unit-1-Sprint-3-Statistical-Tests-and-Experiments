{
  "nbformat": 4,
  "nbformat_minor": 0,
  "metadata": {
    "colab": {
      "name": "LS_DS_141_Statistics_Probability_and_Inference.ipynb",
      "version": "0.3.2",
      "provenance": []
    },
    "kernelspec": {
      "display_name": "Python 3",
      "language": "python",
      "name": "python3"
    },
    "language_info": {
      "codemirror_mode": {
        "name": "ipython",
        "version": 3
      },
      "file_extension": ".py",
      "mimetype": "text/x-python",
      "name": "python",
      "nbconvert_exporter": "python",
      "pygments_lexer": "ipython3",
      "version": "3.7.3"
    }
  },
  "cells": [
    {
      "cell_type": "markdown",
      "metadata": {
        "colab_type": "text",
        "id": "eJGtmni-DezY"
      },
      "source": [
        "<img align=\"left\" src=\"https://lever-client-logos.s3.amazonaws.com/864372b1-534c-480e-acd5-9711f850815c-1524247202159.png\" width=200>\n",
        "<br></br>\n",
        "<br></br>\n",
        "\n",
        "## *Data Science Unit 1 Sprint 3 Lesson 1*\n",
        "\n",
        "# Statistics, Probability and Inference\n",
        "\n",
        "Ever thought about how long it takes to make a pancake? Have you ever compared the tooking time of a pancake on each eye of your stove? Is the cooking time different between the different eyes? Now, we can run an experiment and collect a sample of 1,000 pancakes on one eye and another 800 pancakes on the other eye. Assumed we used the same pan, batter, and technique on both eyes. Our average cooking times were 180 (5 std) and 178.5 (4.25 std) seconds repsectively. Now, we can tell those numbers are not identicial, but how confident are we that those numbers are practically the same? How do we know the slight difference isn't caused by some external randomness?\n",
        "\n",
        "Yes, today's lesson will help you figure out how long to cook your pancakes (*theoretically*). Experimentation is up to you; otherwise, you have to accept my data as true. How are going to accomplish this? With probability, statistics, inference and maple syrup (optional). \n",
        "\n",
        "<img src=\"https://images.unsplash.com/photo-1541288097308-7b8e3f58c4c6?ixlib=rb-1.2.1&ixid=eyJhcHBfaWQiOjEyMDd9&auto=format&fit=crop&w=3300&q=80\" width=400>\n",
        "\n",
        "## Learning Objectives\n",
        "* [Part 1](#p1): Normal Distribution Revisted\n",
        "* [Part 2](#p2): Student's T Test\n",
        "* [Part 3](#p3): Hypothesis Test & Doing it Live"
      ]
    },
    {
      "cell_type": "markdown",
      "metadata": {
        "id": "omxd_b1Ov65I",
        "colab_type": "text"
      },
      "source": [
        "## Normal Distribution Revisited\n",
        "\n",
        "What is the Normal distribution: A probability distribution of a continuous real valued random-variable. The Normal distribution properties make it useful for the *Central Limit Theorm*, because if we assume a variable follows the normal distribution, we can make certain conclusions based on probabilities."
      ]
    },
    {
      "cell_type": "code",
      "metadata": {
        "id": "1HkS0RHhv65J",
        "colab_type": "code",
        "colab": {}
      },
      "source": [
        "import numpy as np\n",
        "\n",
        "mu = 180 # mean\n",
        "sigma = 5 # standard deviation\n",
        "\n",
        "sample = np.random.normal(mu, sigma, 1000)"
      ],
      "execution_count": 0,
      "outputs": []
    },
    {
      "cell_type": "code",
      "metadata": {
        "id": "UQEoopgZwc9X",
        "colab_type": "code",
        "colab": {
          "base_uri": "https://localhost:8080/",
          "height": 34
        },
        "outputId": "58ebcc02-ba3a-457e-f009-c0aac23869c8"
      },
      "source": [
        "np.mean(sample)"
      ],
      "execution_count": 9,
      "outputs": [
        {
          "output_type": "execute_result",
          "data": {
            "text/plain": [
              "180.27906610505448"
            ]
          },
          "metadata": {
            "tags": []
          },
          "execution_count": 9
        }
      ]
    },
    {
      "cell_type": "code",
      "metadata": {
        "id": "tRr-rwUxv65N",
        "colab_type": "code",
        "colab": {
          "base_uri": "https://localhost:8080/",
          "height": 34
        },
        "outputId": "c0c966e8-c028-464d-fcbe-fcdcb25811b2"
      },
      "source": [
        "# Verify the mean of our sample\n",
        "abs(mu - np.mean(sample)) < 1"
      ],
      "execution_count": 10,
      "outputs": [
        {
          "output_type": "execute_result",
          "data": {
            "text/plain": [
              "True"
            ]
          },
          "metadata": {
            "tags": []
          },
          "execution_count": 10
        }
      ]
    },
    {
      "cell_type": "code",
      "metadata": {
        "id": "4r9Yl2DVv65U",
        "colab_type": "code",
        "colab": {
          "base_uri": "https://localhost:8080/",
          "height": 34
        },
        "outputId": "83ef78e9-2a14-41fb-b318-55008c248dca"
      },
      "source": [
        "# Verify the variance of our sample\n",
        "abs(sigma - np.std(sample, ddof=1)) < 1"
      ],
      "execution_count": 13,
      "outputs": [
        {
          "output_type": "execute_result",
          "data": {
            "text/plain": [
              "True"
            ]
          },
          "metadata": {
            "tags": []
          },
          "execution_count": 13
        }
      ]
    },
    {
      "cell_type": "code",
      "metadata": {
        "id": "rflfocEbv65Y",
        "colab_type": "code",
        "colab": {
          "base_uri": "https://localhost:8080/",
          "height": 282
        },
        "outputId": "da24027c-4d43-48c8-fd41-c36428c560e7"
      },
      "source": [
        "import seaborn as sns\n",
        "from matplotlib import style\n",
        "\n",
        "style.use('fivethirtyeight')\n",
        "\n",
        "ax = sns.distplot(sample, color='r')\n",
        "ax.axvline(np.percentile(sample,97.5),0)\n",
        "ax.axvline(np.percentile(sample,2.5),0);"
      ],
      "execution_count": 14,
      "outputs": [
        {
          "output_type": "display_data",
          "data": {
            "image/png": "[encoded data removed]",
            "text/plain": [
              "<Figure size 432x288 with 1 Axes>"
            ]
          },
          "metadata": {
            "tags": []
          }
        }
      ]
    },
    {
      "cell_type": "code",
      "metadata": {
        "id": "jX_xaFdJyd7s",
        "colab_type": "code",
        "colab": {
          "base_uri": "https://localhost:8080/",
          "height": 34
        },
        "outputId": "63832c2f-fa48-45ef-9b2e-cabdc383bd46"
      },
      "source": [
        "np.percentile(sample, 97.5)"
      ],
      "execution_count": 15,
      "outputs": [
        {
          "output_type": "execute_result",
          "data": {
            "text/plain": [
              "189.51423596611562"
            ]
          },
          "metadata": {
            "tags": []
          },
          "execution_count": 15
        }
      ]
    },
    {
      "cell_type": "markdown",
      "metadata": {
        "id": "GKoYNoeUx51I",
        "colab_type": "text"
      },
      "source": [
        "Lean six sigma\n",
        "99.7% of your product isn't faulty"
      ]
    },
    {
      "cell_type": "markdown",
      "metadata": {
        "colab_type": "text",
        "id": "FMhDKOFND0qY"
      },
      "source": [
        "## Student's T Test\n",
        "\n",
        ">Assuming data come from a Normal distribution, the t test provides a way to test whether the sample mean (that is the mean calculated from the data) is a good estimate of the population mean. \n",
        "\n",
        "The derivation of the t-distribution was first published in 1908 by William Gosset while working for the Guinness Brewery in Dublin. Due to proprietary issues, he had to publish under a pseudonym, and so he used the name Student.\n",
        "\n",
        "The t-distribution is essentially a distribution of means of normaly distributed data. When we use a t-statistic, we are  checking that a mean fails within a certain $\\alpha$ probability of the mean of means."
      ]
    },
    {
      "cell_type": "code",
      "metadata": {
        "colab_type": "code",
        "id": "fQ9rkLJmEbsk",
        "colab": {}
      },
      "source": [
        "t_df10 = np.random.standard_t(df=10, size=10)\n",
        "t_df100 = np.random.standard_t(df=100, size=100)\n",
        "t_df1000 = np.random.standard_t(df=1000, size=1000)"
      ],
      "execution_count": 0,
      "outputs": []
    },
    {
      "cell_type": "code",
      "metadata": {
        "colab_type": "code",
        "id": "RyNKPt_tJk86",
        "outputId": "cd9fc608-caef-47fc-dbd1-65d34a888d5a",
        "colab": {
          "base_uri": "https://localhost:8080/",
          "height": 282
        }
      },
      "source": [
        "sns.kdeplot(t_df10, color='r');\n",
        "sns.kdeplot(t_df100, color='y');\n",
        "sns.kdeplot(t_df1000, color='b');"
      ],
      "execution_count": 17,
      "outputs": [
        {
          "output_type": "display_data",
          "data": {
            "image/png": "[encoded data removed]",
            "text/plain": [
              "<Figure size 432x288 with 1 Axes>"
            ]
          },
          "metadata": {
            "tags": []
          }
        }
      ]
    },
    {
      "cell_type": "code",
      "metadata": {
        "colab_type": "code",
        "id": "seQv5unnJvpM",
        "outputId": "60bbe6a8-5031-40a8-a7f3-4ef623198c7f",
        "colab": {
          "base_uri": "https://localhost:8080/",
          "height": 272
        }
      },
      "source": [
        "i = 10\n",
        "for sample in [t_df10, t_df100, t_df1000]:\n",
        "    print(f\"t - distribution with {i} degrees of freedom\")\n",
        "    print(\"---\" * 10)\n",
        "    print(f\"Mean: {sample.mean()}\")\n",
        "    print(f\"Standard Deviation: {sample.std()}\")\n",
        "    print(f\"Variance: {sample.var()}\")\n",
        "    i = i*10"
      ],
      "execution_count": 18,
      "outputs": [
        {
          "output_type": "stream",
          "text": [
            "t - distribution with 10 degrees of freedom\n",
            "------------------------------\n",
            "Mean: -0.1745913467815001\n",
            "Standard Deviation: 0.8620691491110712\n",
            "Variance: 0.7431632178490863\n",
            "t - distribution with 100 degrees of freedom\n",
            "------------------------------\n",
            "Mean: -0.045743946647530474\n",
            "Standard Deviation: 0.910507786701386\n",
            "Variance: 0.8290244296438566\n",
            "t - distribution with 1000 degrees of freedom\n",
            "------------------------------\n",
            "Mean: -0.02850370807389207\n",
            "Standard Deviation: 1.0314884075783577\n",
            "Variance: 1.0639683349685363\n"
          ],
          "name": "stdout"
        }
      ]
    },
    {
      "cell_type": "markdown",
      "metadata": {
        "colab_type": "text",
        "id": "FOvEGMysLaE2"
      },
      "source": [
        "Why is it different from normal? To better reflect the tendencies of small data and situations with unknown population standard deviation. In other words, the normal distribution is still the nice pure ideal (thanks to the central limit theorem), but the t-distribution is much more useful in many real-world situations."
      ]
    },
    {
      "cell_type": "code",
      "metadata": {
        "id": "APBihWol2-IM",
        "colab_type": "code",
        "colab": {
          "base_uri": "https://localhost:8080/",
          "height": 221
        },
        "outputId": "80981903-a4af-45ff-d366-88e36440286d"
      },
      "source": [
        "import pandas as pd\n",
        "# Missing LAR (no team roster page on NFL.com)\n",
        "teams = ['ARI','ATL','BAL','BUF','CAR','CHI','CIN','CLE','DAL','DEN','DET','GB','HOU',\n",
        "        'IND','JAX','KC','LAC','MIA','MIN','NE','NO','NYG','NYJ','OAK','PHI',\n",
        "        'PIT','SEA','SF','TB','TEN','WAS']    \n",
        "df_list = []\n",
        "for team in teams: \n",
        "    df = pd.read_html(f'http://www.nfl.com/teams/roster?team={team}')[1]\n",
        "    df['Team'] = team\n",
        "    df.columns = ['No','Name','Pos','Status','Height','Weight','Birthdate','Exp','College','Team']\n",
        "    df_list.append(df)\n",
        "    \n",
        "final_df = pd.concat(df_list, ignore_index=True)\n",
        "print(final_df.shape)\n",
        "final_df.head()"
      ],
      "execution_count": 19,
      "outputs": [
        {
          "output_type": "stream",
          "text": [
            "(2883, 10)\n"
          ],
          "name": "stdout"
        },
        {
          "output_type": "execute_result",
          "data": {
            "text/html": [
              "<div>\n",
              "<style scoped>\n",
              "    .dataframe tbody tr th:only-of-type {\n",
              "        vertical-align: middle;\n",
              "    }\n",
              "\n",
              "    .dataframe tbody tr th {\n",
              "        vertical-align: top;\n",
              "    }\n",
              "\n",
              "    .dataframe thead th {\n",
              "        text-align: right;\n",
              "    }\n",
              "</style>\n",
              "<table border=\"1\" class=\"dataframe\">\n",
              "  <thead>\n",
              "    <tr style=\"text-align: right;\">\n",
              "      <th></th>\n",
              "      <th>No</th>\n",
              "      <th>Name</th>\n",
              "      <th>Pos</th>\n",
              "      <th>Status</th>\n",
              "      <th>Height</th>\n",
              "      <th>Weight</th>\n",
              "      <th>Birthdate</th>\n",
              "      <th>Exp</th>\n",
              "      <th>College</th>\n",
              "      <th>Team</th>\n",
              "    </tr>\n",
              "  </thead>\n",
              "  <tbody>\n",
              "    <tr>\n",
              "      <th>0</th>\n",
              "      <td>23</td>\n",
              "      <td>Alford, Robert</td>\n",
              "      <td>CB</td>\n",
              "      <td>ACT</td>\n",
              "      <td>5'10\"</td>\n",
              "      <td>186</td>\n",
              "      <td>11/1/1988</td>\n",
              "      <td>7</td>\n",
              "      <td>Southeastern Louisiana</td>\n",
              "      <td>ARI</td>\n",
              "    </tr>\n",
              "    <tr>\n",
              "      <th>1</th>\n",
              "      <td>97</td>\n",
              "      <td>Allen, Zach</td>\n",
              "      <td>DE</td>\n",
              "      <td>ACT</td>\n",
              "      <td>6'5\"</td>\n",
              "      <td>285</td>\n",
              "      <td>8/20/1997</td>\n",
              "      <td>0</td>\n",
              "      <td>Boston College</td>\n",
              "      <td>ARI</td>\n",
              "    </tr>\n",
              "    <tr>\n",
              "      <th>2</th>\n",
              "      <td>3</td>\n",
              "      <td>Anderson, Drew</td>\n",
              "      <td>QB</td>\n",
              "      <td>ACT</td>\n",
              "      <td>6'4\"</td>\n",
              "      <td>221</td>\n",
              "      <td>10/18/1995</td>\n",
              "      <td>0</td>\n",
              "      <td>Murray State</td>\n",
              "      <td>ARI</td>\n",
              "    </tr>\n",
              "    <tr>\n",
              "      <th>3</th>\n",
              "      <td>71</td>\n",
              "      <td>Bailey, Sterling</td>\n",
              "      <td>DE</td>\n",
              "      <td>ACT</td>\n",
              "      <td>6'3\"</td>\n",
              "      <td>296</td>\n",
              "      <td>9/13/1992</td>\n",
              "      <td>1</td>\n",
              "      <td>Georgia</td>\n",
              "      <td>ARI</td>\n",
              "    </tr>\n",
              "    <tr>\n",
              "      <th>4</th>\n",
              "      <td>32</td>\n",
              "      <td>Baker, Budda</td>\n",
              "      <td>SS</td>\n",
              "      <td>ACT</td>\n",
              "      <td>5'10\"</td>\n",
              "      <td>195</td>\n",
              "      <td>1/10/1996</td>\n",
              "      <td>3</td>\n",
              "      <td>Washington</td>\n",
              "      <td>ARI</td>\n",
              "    </tr>\n",
              "  </tbody>\n",
              "</table>\n",
              "</div>"
            ],
            "text/plain": [
              "   No              Name Pos Status  ...   Birthdate Exp                 College Team\n",
              "0  23    Alford, Robert  CB    ACT  ...   11/1/1988   7  Southeastern Louisiana  ARI\n",
              "1  97       Allen, Zach  DE    ACT  ...   8/20/1997   0          Boston College  ARI\n",
              "2   3    Anderson, Drew  QB    ACT  ...  10/18/1995   0            Murray State  ARI\n",
              "3  71  Bailey, Sterling  DE    ACT  ...   9/13/1992   1                 Georgia  ARI\n",
              "4  32      Baker, Budda  SS    ACT  ...   1/10/1996   3              Washington  ARI\n",
              "\n",
              "[5 rows x 10 columns]"
            ]
          },
          "metadata": {
            "tags": []
          },
          "execution_count": 19
        }
      ]
    },
    {
      "cell_type": "markdown",
      "metadata": {
        "colab_type": "text",
        "id": "1yx_QilAEC6o"
      },
      "source": [
        "## Live Lecture - let's perform and interpret a t-test\n",
        "\n",
        "We'll generate our own data, so we can know and alter the \"ground truth\" that the t-test should find. We will learn about p-values and how to interpret \"statistical significance\" based on the output of a hypothesis test. We will also dig a bit deeper into how the test statistic is calculated based on the sample error, and visually what it looks like to have 1 or 2 \"tailed\" t-tests."
      ]
    },
    {
      "cell_type": "code",
      "metadata": {
        "colab_type": "code",
        "id": "BuysRPs-Ed0v",
        "colab": {}
      },
      "source": [
        "from scipy.stats import ttest_ind, ttest_ind_from_stats, ttest_rel"
      ],
      "execution_count": 0,
      "outputs": []
    },
    {
      "cell_type": "code",
      "metadata": {
        "id": "jnFCZYoV8nnx",
        "colab_type": "code",
        "colab": {}
      },
      "source": [
        "burnerA = np.random.normal(180, 5, 1000)\n",
        "burnerB = np.random.normal(178.5, 4.25, 800)"
      ],
      "execution_count": 0,
      "outputs": []
    },
    {
      "cell_type": "code",
      "metadata": {
        "id": "xW_zThU38zUh",
        "colab_type": "code",
        "colab": {
          "base_uri": "https://localhost:8080/",
          "height": 68
        },
        "outputId": "09e4935b-0c18-4509-d19e-ed58ca909cfe"
      },
      "source": [
        "burnerA[:10]"
      ],
      "execution_count": 22,
      "outputs": [
        {
          "output_type": "execute_result",
          "data": {
            "text/plain": [
              "array([175.80117956, 185.82012018, 176.52753016, 187.11423269,\n",
              "       187.02291678, 174.56330971, 179.65661932, 182.36045269,\n",
              "       178.56547345, 177.19518649])"
            ]
          },
          "metadata": {
            "tags": []
          },
          "execution_count": 22
        }
      ]
    },
    {
      "cell_type": "code",
      "metadata": {
        "id": "RiJ79A5M81p2",
        "colab_type": "code",
        "colab": {
          "base_uri": "https://localhost:8080/",
          "height": 68
        },
        "outputId": "5441a87c-af04-4ec5-a5ca-c96a71bf9ba1"
      },
      "source": [
        "burnerB[:10]"
      ],
      "execution_count": 23,
      "outputs": [
        {
          "output_type": "execute_result",
          "data": {
            "text/plain": [
              "array([181.82280668, 175.38886454, 176.36797359, 169.79079982,\n",
              "       177.77775874, 168.18115472, 178.74322563, 174.71842597,\n",
              "       175.47650181, 181.09272242])"
            ]
          },
          "metadata": {
            "tags": []
          },
          "execution_count": 23
        }
      ]
    },
    {
      "cell_type": "code",
      "metadata": {
        "id": "ekAwVF4v9kBI",
        "colab_type": "code",
        "colab": {
          "base_uri": "https://localhost:8080/",
          "height": 119
        },
        "outputId": "a03d441a-3178-4863-8f60-d8540238e742"
      },
      "source": [
        "for sample in [burnerA, burnerB]:\n",
        "  print(f'Mean: {sample.mean()}')\n",
        "  print(f'StDev: {sample.std()}')\n",
        "  print('----'*7)"
      ],
      "execution_count": 25,
      "outputs": [
        {
          "output_type": "stream",
          "text": [
            "Mean: 180.05716340850665\n",
            "StDev: 5.1249207477666125\n",
            "----------------------------\n",
            "Mean: 178.38193262063606\n",
            "StDev: 4.282380212142458\n",
            "----------------------------\n"
          ],
          "name": "stdout"
        }
      ]
    },
    {
      "cell_type": "code",
      "metadata": {
        "id": "ktkSgVLI9kDs",
        "colab_type": "code",
        "colab": {
          "base_uri": "https://localhost:8080/",
          "height": 51
        },
        "outputId": "52b6bd9d-c34e-445f-abf8-3b1ec66b90ca"
      },
      "source": [
        "tstat, pvalue = ttest_ind(burnerA, burnerB)\n",
        "print(tstat)\n",
        "print(pvalue)"
      ],
      "execution_count": 26,
      "outputs": [
        {
          "output_type": "stream",
          "text": [
            "7.40161334048983\n",
            "2.0556563641389722e-13\n"
          ],
          "name": "stdout"
        }
      ]
    },
    {
      "cell_type": "code",
      "metadata": {
        "id": "kJsg_YvU_eNR",
        "colab_type": "code",
        "colab": {
          "base_uri": "https://localhost:8080/",
          "height": 299
        },
        "outputId": "14fa8dab-7d78-472d-a20b-c47f93c87218"
      },
      "source": [
        "import seaborn as sns\n",
        "sns.distplot(burnerA, color='r')\n",
        "sns.distplot(burnerB, color='b')"
      ],
      "execution_count": 27,
      "outputs": [
        {
          "output_type": "execute_result",
          "data": {
            "text/plain": [
              "<matplotlib.axes._subplots.AxesSubplot at 0x7fe17abb8f98>"
            ]
          },
          "metadata": {
            "tags": []
          },
          "execution_count": 27
        },
        {
          "output_type": "display_data",
          "data": {
            "image/png": "[encoded data removed]",
            "text/plain": [
              "<Figure size 432x288 with 1 Axes>"
            ]
          },
          "metadata": {
            "tags": []
          }
        }
      ]
    },
    {
      "cell_type": "markdown",
      "metadata": {
        "colab_type": "text",
        "id": "wiq83guLcuAE"
      },
      "source": [
        "# Resources\n",
        "\n",
        "- https://homepage.divms.uiowa.edu/~mbognar/applets/t.html\n",
        "- https://rpsychologist.com/d3/tdist/\n",
        "- https://gallery.shinyapps.io/tdist/\n",
        "- https://en.wikipedia.org/wiki/Standard_deviation#Sample_standard_deviation_of_metabolic_rate_of_northern_fulmars\n",
        "- https://www.khanacademy.org/math/ap-statistics/two-sample-inference/two-sample-t-test-means/v/two-sample-t-test-for-difference-of-means"
      ]
    }
  ]
}